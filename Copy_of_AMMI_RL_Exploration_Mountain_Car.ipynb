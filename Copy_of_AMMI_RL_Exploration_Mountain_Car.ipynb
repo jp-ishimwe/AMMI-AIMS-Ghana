{
  "nbformat": 4,
  "nbformat_minor": 0,
  "metadata": {
    "kernelspec": {
      "display_name": "Python 3",
      "language": "python",
      "name": "python3"
    },
    "language_info": {
      "codemirror_mode": {
        "name": "ipython",
        "version": 3
      },
      "file_extension": ".py",
      "mimetype": "text/x-python",
      "name": "python",
      "nbconvert_exporter": "python",
      "pygments_lexer": "ipython3",
      "version": "3.8.1"
    },
    "colab": {
      "name": "Copy of AMMI RL - Exploration - Mountain Car.ipynb",
      "provenance": [],
      "collapsed_sections": [],
      "include_colab_link": true
    }
  },
  "cells": [
    {
      "cell_type": "markdown",
      "metadata": {
        "id": "view-in-github",
        "colab_type": "text"
      },
      "source": [
        "<a href=\"https://colab.research.google.com/github/jp-ishimwe/AMMI-AIMS-Ghana/blob/master/Copy_of_AMMI_RL_Exploration_Mountain_Car.ipynb\" target=\"_parent\"><img src=\"https://colab.research.google.com/assets/colab-badge.svg\" alt=\"Open In Colab\"/></a>"
      ]
    },
    {
      "cell_type": "code",
      "metadata": {
        "id": "780D9u4ZZxWo",
        "colab_type": "code",
        "colab": {}
      },
      "source": [
        "!pip install gym > /dev/null 2>&1"
      ],
      "execution_count": 0,
      "outputs": []
    },
    {
      "cell_type": "code",
      "metadata": {
        "id": "x20JG4VuaEND",
        "colab_type": "code",
        "colab": {}
      },
      "source": [
        "!pip install gym pyvirtualdisplay > /dev/null 2>&1\n",
        "!apt-get install -y xvfb python-opengl ffmpeg > /dev/null 2>&1"
      ],
      "execution_count": 0,
      "outputs": []
    },
    {
      "cell_type": "code",
      "metadata": {
        "id": "E46IaY_5aEtf",
        "colab_type": "code",
        "outputId": "d17e5b14-f0a2-43c6-c5d4-9f9d974711d9",
        "colab": {
          "base_uri": "https://localhost:8080/",
          "height": 35
        }
      },
      "source": [
        "!apt-get update > /dev/null 2>&1\n",
        "!apt-get install cmake > /dev/null 2>&1\n",
        "!pip install --upgrade setuptools 2>&1\n",
        "!pip install ez_setup > /dev/null 2>&1"
      ],
      "execution_count": 3,
      "outputs": [
        {
          "output_type": "stream",
          "text": [
            "Requirement already up-to-date: setuptools in /usr/local/lib/python3.6/dist-packages (45.2.0)\n"
          ],
          "name": "stdout"
        }
      ]
    },
    {
      "cell_type": "code",
      "metadata": {
        "id": "_UWM-gGi76pF",
        "colab_type": "code",
        "colab": {}
      },
      "source": [
        "!git clone https://github.com/rlgammazero/mvarl_hands_on.git > /dev/null 2>&1"
      ],
      "execution_count": 0,
      "outputs": []
    },
    {
      "cell_type": "code",
      "metadata": {
        "id": "J5EbzJ1A78Bk",
        "colab_type": "code",
        "colab": {}
      },
      "source": [
        "import sys\n",
        "sys.path.insert(0, './mvarl_hands_on/utils')"
      ],
      "execution_count": 0,
      "outputs": []
    },
    {
      "cell_type": "code",
      "metadata": {
        "id": "KDPYhYvR7yKZ",
        "colab_type": "code",
        "colab": {}
      },
      "source": [
        "import numpy as np\n",
        "import cvxpy as cp\n",
        "import matplotlib.pyplot as plt\n",
        "%matplotlib inline\n",
        "\n",
        "import gym\n",
        "from gym import logger as gymlogger\n",
        "from gym.wrappers import Monitor\n",
        "gymlogger.set_level(40) #error only\n",
        "\n",
        "import seaborn as sns\n",
        "from pyvirtualdisplay import Display\n",
        "from IPython import display as ipythondisplay\n",
        "from IPython.display import clear_output\n",
        "from pathlib import Path\n",
        "\n",
        "import random, os.path, math, glob, csv, base64, itertools, sys\n",
        "from pprint import pprint\n",
        "\n",
        "import matplotlib\n",
        "import matplotlib.pyplot as plt\n",
        "%matplotlib inline\n",
        "import io\n",
        "from IPython.display import HTML\n",
        "\n",
        "from copy import deepcopy"
      ],
      "execution_count": 0,
      "outputs": []
    },
    {
      "cell_type": "markdown",
      "metadata": {
        "id": "S5twn7Qv7yKf",
        "colab_type": "text"
      },
      "source": [
        "# Discretization of the state space"
      ]
    },
    {
      "cell_type": "code",
      "metadata": {
        "id": "f3WTC2o2coW_",
        "colab_type": "code",
        "colab": {}
      },
      "source": [
        "from discretization import Discretizer\n",
        "\n",
        "class DiscretizedMountainCar(gym.Wrapper):\n",
        "    def __init__(self, n_bins):\n",
        "        env_id = 'MountainCar-v0' \n",
        "        env = gym.make(env_id)\n",
        "        self.env = env\n",
        "        super().__init__(env)\n",
        "        self.min_reward = -1.0\n",
        "        self.max_reward = 0.0\n",
        "\n",
        "        LM = env.observation_space.low\n",
        "        HM = env.observation_space.high\n",
        "        D = len(HM)\n",
        "\n",
        "        bins = []\n",
        "        for i in range(D):\n",
        "            V = np.linspace(LM[i], HM[i], n_bins)\n",
        "            bins.append(V[1:-1])\n",
        "        self.grid = Discretizer(bins=bins)\n",
        "\n",
        "        # Number of states\n",
        "        self.S = self.grid.n_bins()\n",
        "        # Number of actions\n",
        "        self.A = self.env.action_space.n\n",
        "\n",
        "    def step(self, action):\n",
        "        next_state, reward, done, info = self.env.step(action)\n",
        "        reward = (reward - self.min_reward) / (self.max_reward - self.min_reward)\n",
        "        if done:\n",
        "            next_state = self.env.reset()\n",
        "            reward = 1.0\n",
        "        done = False \n",
        "        next_state = self.grid.dpos(next_state)\n",
        "        return next_state, reward, done, info\n",
        "\n",
        "    def reset(self):\n",
        "        state = self.env.reset()\n",
        "        state = self.grid.dpos(state)\n",
        "        return state\n",
        "\n",
        "# Environment\n",
        "n_bins = 10\n",
        "env = DiscretizedMountainCar(n_bins)\n",
        "\n",
        "# Horizon\n",
        "H = 180"
      ],
      "execution_count": 0,
      "outputs": []
    },
    {
      "cell_type": "code",
      "metadata": {
        "id": "7l8433mz7yKh",
        "colab_type": "code",
        "colab": {}
      },
      "source": [
        ""
      ],
      "execution_count": 0,
      "outputs": []
    },
    {
      "cell_type": "markdown",
      "metadata": {
        "id": "hiXHdYle7yKm",
        "colab_type": "text"
      },
      "source": [
        "# Backward induction (aka Value Iteration)"
      ]
    },
    {
      "cell_type": "code",
      "metadata": {
        "id": "Q_KZXn8A7yKo",
        "colab_type": "code",
        "colab": {}
      },
      "source": [
        "def backward_induction(P, R, H):\n",
        "    \"\"\"\n",
        "        Parameters:\n",
        "            P: transition function (S,A,S)-dim matrix\n",
        "            R: reward function (S,A)-dim matrix\n",
        "            H: horizon\n",
        "\n",
        "        Returns:\n",
        "            The optimal V-function: array of shape (horizon, S)\n",
        "            The optimal policy\n",
        "        \n",
        "        V[h, s]\n",
        "    \"\"\"\n",
        "    S, A = P.shape[0], P.shape[1]\n",
        "    policy = np.zeros((H, S), dtype=np.int)\n",
        "    V = np.zeros((H + 1, S))\n",
        "    for h in reversed(range(H)):\n",
        "        for s in range(S):\n",
        "            \"\"\" \n",
        "            Here, we compute V^*(h, s) using the Bellman optimality equation:\n",
        "\n",
        "            V[h, s] = max_a  R[s, a] + sum_{s'} P[s, a, s']*V[h+1, s']\n",
        "            \"\"\"\n",
        "            for a in range(A):\n",
        "                tmp = R[s, a] + np.dot(P[s, a],  V[h + 1])\n",
        "                if (a == 0) or (tmp > V[h, s]):\n",
        "                    policy[h, s] = a\n",
        "                    V[h, s] = tmp\n",
        "    return V, policy"
      ],
      "execution_count": 0,
      "outputs": []
    },
    {
      "cell_type": "markdown",
      "metadata": {
        "id": "pvmhRCN07yKs",
        "colab_type": "text"
      },
      "source": [
        "Compute solution"
      ]
    },
    {
      "cell_type": "markdown",
      "metadata": {
        "id": "v1nCGWuw7yKy",
        "colab_type": "text"
      },
      "source": [
        "## UCBVI (UCRL with exploration bonus)"
      ]
    },
    {
      "cell_type": "code",
      "metadata": {
        "id": "pk0v7jg67yK7",
        "colab_type": "code",
        "colab": {}
      },
      "source": [
        "def UCRL(mdp, H, nb_episodes, VSTAR=0, scale_factor = 2.0):\n",
        "    S, A = mdp.S, mdp.A\n",
        "    policy = np.zeros((H, S), dtype=np.int)\n",
        "    Phat = np.ones((S,A,S)) / S\n",
        "    Rhat = np.zeros((S,A))\n",
        "    N_sas = np.zeros((S,A,S), dtype=np.int)\n",
        "    N_sa = np.zeros((S,A), dtype=np.int)\n",
        "    episode_rewards = np.zeros((nb_episodes,))\n",
        "  \n",
        "    V = H*np.ones((H + 1, S))\n",
        "    V[H, :] = 0\n",
        "\n",
        "    S_sa = np.zeros((S,A)) \n",
        "    for k in range(nb_episodes):\n",
        "        sum_rewards = 0\n",
        "        # run optimistic value iteration\n",
        "        V.fill(0)\n",
        "        for h in reversed(range(H)):\n",
        "            for s in range(S):\n",
        "                temp = np.zeros(A)\n",
        "                for a in range(A):\n",
        "                    nn = N_sa[s, a] + 1\n",
        "                    bonus = scale_factor*np.sqrt(1.0/nn)\n",
        "                    temp[a] = Rhat[s, a] + Phat[s, a].dot(V[h + 1]) + bonus\n",
        "\n",
        "                V[h, s] = min(H-h, temp.max())\n",
        "                policy[h, s] = temp.argmax()\n",
        "        # execute policy\n",
        "        initial_state = state = mdp.reset()\n",
        "        for h in range(H):\n",
        "            action = policy[h][state]\n",
        "            next_state, reward, done, _ = mdp.step(action)\n",
        "\n",
        "            sum_rewards += reward\n",
        "            \n",
        "            # update estimates (Phat, Rhat, N_sa, N_sas)\n",
        "            N_sa[state, action] += 1\n",
        "            N_sas[state, action, next_state] +=1\n",
        "            S_sa[state, action] += reward\n",
        "            \n",
        "            Rhat[state, action] = S_sa[state, action]/N_sa[state, action]\n",
        "            Phat[state, action, :] = N_sas[state, action, :]/N_sa[state, action]\n",
        "\n",
        "            \n",
        "            state = next_state\n",
        "        \n",
        "        # update regret\n",
        "        episode_rewards[k] = sum_rewards\n",
        "        \n",
        "        if k % 5 == 0 or k==1:\n",
        "            print(\"rewards[{}]: {}\".format(k, episode_rewards[k]), end = \", \")\n",
        "            print(\"Number of visited states: \", (N_sa.sum(axis=1) > 0).sum() )\n",
        "            # print(V[0, :])\n",
        "\n",
        "    return episode_rewards, N_sa, Rhat, Phat, policy"
      ],
      "execution_count": 0,
      "outputs": []
    },
    {
      "cell_type": "code",
      "metadata": {
        "id": "0-UTr3Gq7yK_",
        "colab_type": "code",
        "outputId": "b86de530-dfd1-4922-9be7-6efc373266e2",
        "colab": {
          "base_uri": "https://localhost:8080/",
          "height": 1000
        }
      },
      "source": [
        "nb_repetitions = 1\n",
        "nb_episodes = 300\n",
        "rewards = np.zeros((nb_repetitions, nb_episodes))\n",
        "for it in range(nb_repetitions):\n",
        "    print(\"Running simulation: {}\".format(it))\n",
        "    rewards[it], N_sa, Rhat, Phat, policy = UCRL(mdp=env, H=H, nb_episodes=nb_episodes)"
      ],
      "execution_count": 18,
      "outputs": [
        {
          "output_type": "stream",
          "text": [
            "Running simulation: 0\n",
            "rewards[0]: 0.0, Number of visited states:  8\n",
            "rewards[1]: 0.0, Number of visited states:  8\n",
            "rewards[5]: 0.0, Number of visited states:  22\n",
            "rewards[10]: 0.0, Number of visited states:  43\n",
            "rewards[15]: 0.0, Number of visited states:  50\n",
            "rewards[20]: 1.0, Number of visited states:  54\n",
            "rewards[25]: 0.0, Number of visited states:  57\n",
            "rewards[30]: 0.0, Number of visited states:  58\n",
            "rewards[35]: 1.0, Number of visited states:  61\n",
            "rewards[40]: 1.0, Number of visited states:  61\n",
            "rewards[45]: 1.0, Number of visited states:  62\n",
            "rewards[50]: 0.0, Number of visited states:  62\n",
            "rewards[55]: 0.0, Number of visited states:  63\n",
            "rewards[60]: 0.0, Number of visited states:  63\n",
            "rewards[65]: 0.0, Number of visited states:  63\n",
            "rewards[70]: 0.0, Number of visited states:  63\n",
            "rewards[75]: 0.0, Number of visited states:  63\n",
            "rewards[80]: 0.0, Number of visited states:  63\n",
            "rewards[85]: 0.0, Number of visited states:  63\n",
            "rewards[90]: 0.0, Number of visited states:  63\n",
            "rewards[95]: 0.0, Number of visited states:  64\n",
            "rewards[100]: 0.0, Number of visited states:  64\n",
            "rewards[105]: 0.0, Number of visited states:  64\n",
            "rewards[110]: 0.0, Number of visited states:  66\n",
            "rewards[115]: 1.0, Number of visited states:  66\n",
            "rewards[120]: 0.0, Number of visited states:  66\n",
            "rewards[125]: 0.0, Number of visited states:  66\n",
            "rewards[130]: 0.0, Number of visited states:  66\n",
            "rewards[135]: 0.0, Number of visited states:  66\n",
            "rewards[140]: 0.0, Number of visited states:  66\n",
            "rewards[145]: 0.0, Number of visited states:  66\n",
            "rewards[150]: 1.0, Number of visited states:  66\n",
            "rewards[155]: 0.0, Number of visited states:  66\n",
            "rewards[160]: 0.0, Number of visited states:  66\n",
            "rewards[165]: 1.0, Number of visited states:  66\n",
            "rewards[170]: 0.0, Number of visited states:  66\n",
            "rewards[175]: 0.0, Number of visited states:  66\n",
            "rewards[180]: 1.0, Number of visited states:  66\n",
            "rewards[185]: 1.0, Number of visited states:  67\n",
            "rewards[190]: 0.0, Number of visited states:  67\n",
            "rewards[195]: 0.0, Number of visited states:  67\n",
            "rewards[200]: 0.0, Number of visited states:  67\n",
            "rewards[205]: 0.0, Number of visited states:  67\n",
            "rewards[210]: 0.0, Number of visited states:  67\n",
            "rewards[215]: 0.0, Number of visited states:  67\n",
            "rewards[220]: 0.0, Number of visited states:  67\n",
            "rewards[225]: 0.0, Number of visited states:  67\n",
            "rewards[230]: 1.0, Number of visited states:  67\n",
            "rewards[235]: 0.0, Number of visited states:  67\n",
            "rewards[240]: 0.0, Number of visited states:  68\n",
            "rewards[245]: 0.0, Number of visited states:  68\n",
            "rewards[250]: 0.0, Number of visited states:  68\n",
            "rewards[255]: 1.0, Number of visited states:  68\n",
            "rewards[260]: 0.0, Number of visited states:  68\n",
            "rewards[265]: 0.0, Number of visited states:  68\n",
            "rewards[270]: 1.0, Number of visited states:  68\n",
            "rewards[275]: 0.0, Number of visited states:  68\n",
            "rewards[280]: 0.0, Number of visited states:  69\n",
            "rewards[285]: 0.0, Number of visited states:  69\n",
            "rewards[290]: 0.0, Number of visited states:  69\n",
            "rewards[295]: 1.0, Number of visited states:  69\n"
          ],
          "name": "stdout"
        }
      ]
    },
    {
      "cell_type": "code",
      "metadata": {
        "id": "defhQH1NNQUD",
        "colab_type": "code",
        "outputId": "b0a9cf18-8e44-4a27-f18f-d3fbe35e9375",
        "colab": {
          "base_uri": "https://localhost:8080/",
          "height": 282
        }
      },
      "source": [
        "plt.plot(np.cumsum(rewards), label=\"Sum of rewards:\")\n",
        "plt.legend()"
      ],
      "execution_count": 19,
      "outputs": [
        {
          "output_type": "execute_result",
          "data": {
            "text/plain": [
              "<matplotlib.legend.Legend at 0x7f7f28ce3be0>"
            ]
          },
          "metadata": {
            "tags": []
          },
          "execution_count": 19
        },
        {
          "output_type": "display_data",
          "data": {
            "image/png": "[encoded data removed]",
            "text/plain": [
              "<Figure size 432x288 with 1 Axes>"
            ]
          },
          "metadata": {
            "tags": []
          }
        }
      ]
    },
    {
      "cell_type": "code",
      "metadata": {
        "id": "uhDoPAA5YCLJ",
        "colab_type": "code",
        "outputId": "2d9d1456-5491-4e75-e13a-b9c2ae557fc2",
        "colab": {
          "base_uri": "https://localhost:8080/",
          "height": 438
        }
      },
      "source": [
        "# The following code is will be used to visualize the environments.\n",
        "def show_video(directory):\n",
        "    html = []\n",
        "    for mp4 in Path(directory).glob(\"*.mp4\"):\n",
        "        video_b64 = base64.b64encode(mp4.read_bytes())\n",
        "        html.append('''<video alt=\"{}\" autoplay \n",
        "                      loop controls style=\"height: 400px;\">\n",
        "                      <source src=\"data:video/mp4;base64,{}\" type=\"video/mp4\" />\n",
        "                 </video>'''.format(mp4, video_b64.decode('ascii')))\n",
        "    ipythondisplay.display(ipythondisplay.HTML(data=\"<br>\".join(html)))\n",
        "    \n",
        "def make_seed(seed):\n",
        "    np.random.seed(seed=seed)\n",
        "    torch.manual_seed(seed=seed)\n",
        "  \n",
        "from pyvirtualdisplay import Display\n",
        "display = Display(visible=0, size=(1400, 900))\n",
        "display.start()\n",
        "\n",
        "env = Monitor(env, \"./gym-results\", force=True, video_callable=lambda episode: True)\n",
        "\n",
        "state = env.reset()\n",
        "for hh in range(H): \n",
        "    action = policy[hh, state]\n",
        "    state, reward, done, info = env.step(action)\n",
        "env.close()\n",
        "show_video(\"./gym-results\")"
      ],
      "execution_count": 20,
      "outputs": [
        {
          "output_type": "stream",
          "text": [
            "xdpyinfo was not found, X start can not be checked! Please install xdpyinfo!\n"
          ],
          "name": "stderr"
        },
        {
          "output_type": "display_data",
          "data": {
            "text/html": [
              "<video alt=\"gym-results/openaigym.video.2.873.video000000.mp4\" autoplay \n",
              "                      loop controls style=\"height: 400px;\">\n",
              "                      <source src=\"data:video/mp4;base64,AAAAIGZ0eXBpc29tAAACAGlzb21pc28yYXZjMW1wNDEAAAAIZnJlZQAArGttZGF0AAACrgYF//+q3EXpvebZSLeWLNgg2SPu73gyNjQgLSBjb3JlIDE1MiByMjg1NCBlOWE1OTAzIC0gSC4yNjQvTVBFRy00IEFWQyBjb2RlYyAtIENvcHlsZWZ0IDIwMDMtMjAxNyAtIGh0dHA6Ly93d3cudmlkZW9sYW4ub3JnL3gyNjQuaHRtbCAtIG9wdGlvbnM6IGNhYmFjPTEgcmVmPTMgZGVibG9jaz0xOjA6MCBhbmFseXNlPTB4MzoweDExMyBtZT1oZXggc3VibWU9NyBwc3k9MSBwc3lfcmQ9MS4wMDowLjAwIG1peGVkX3JlZj0xIG1lX3JhbmdlPTE2IGNocm9tYV9tZT0xIHRyZWxsaXM9MSA4eDhkY3Q9MSBjcW09MCBkZWFkem9uZT0yMSwxMSBmYXN0X3Bza2lwPTEgY2hyb21hX3FwX29mZnNldD0tMiB0aHJlYWRzPTMgbG9va2FoZWFkX3RocmVhZHM9MSBzbGljZWRfdGhyZWFkcz0wIG5yPTAgZGVjaW1hdGU9MSBpbnRlcmxhY2VkPTAgYmx1cmF5X2NvbXBhdD0wIGNvbnN0cmFpbmVkX2ludHJhPTAgYmZyYW1lcz0zIGJfcHlyYW1pZD0yIGJfYWRhcHQ9MSBiX2JpYXM9MCBkaXJlY3Q9MSB3ZWlnaHRiPTEgb3Blbl9nb3A9MCB3ZWlnaHRwPTIga2V5aW50PTI1MCBrZXlpbnRfbWluPTI1IHNjZW5lY3V0PTQwIGludHJhX3JlZnJlc2g9MCByY19sb29rYWhlYWQ9NDAgcmM9Y3JmIG1idHJlZT0xIGNyZj0yMy4wIHFjb21wPTAuNjAgcXBtaW49MCBxcG1heD02OSBxcHN0ZXA9NCBpcF9yYXRpbz0xLjQwIGFxPTE6MS4wMACAAAAQj2WIhAA3//728P4FNjuY0JcRzeidMx+/Fbi6NDe9zgAAAwAAAwAACNCLwW1jsC2M+AAAJZAt9C+gGAAN3dq5XHPUJqMQ9STIE4h5i1p0ovAz2D6+0y6GAp6iGk03o7xeeJnNFlP7pyt72mmO8alQPFkcQS/hupH7h4mJTeRhtQk621kLNt8RFPKKRW6wQBeqa/bIUz2QUD/5/AKR9JghRtwUcbJYDG+GJMPfc0Z9+Ky2ZULlDK+ObhIm0waUlSDFaiGatI7Cv9YYX3GwANdOvfJULx5gqPt4GHqavREAVJQU2iOKP5G+WttIUpCgmsc99A8Dcsc4NyqwXB/Wn1HghqJQQTXBhrqdl+eCJeXRZ8bhBdBnr0sWP5YVPan+zifC1CRYcA7fnq256iVjYkyvp6grqbaJSiuDI5DbujXnFly7nle/W7NR/1S2Vof4k+CO61XnSIdtvxgWBwUWA46h0k1oBtMIQvNUXU33AM8G80Ey7IIx18o8b2mKF3zbUTMnFoBoXl6eDPvaN5fHuWZowtenf+WYDl1jSre9SqRT06h/6ZRDv7xTAHJNq6qxYSI0NftlMttSAzKr+nSofw/95u7GewZDF0yP7yLs82zMDY+0kJ1m7wus3HJL/RKeMZXAAAADABOd+97ZsfU/AetTFlL3eGUPI3gGHjOnAH31e4cNjmvsmesMTTM4eiERjIRWvHAU2TClT9QN4TxKLEodabOQADnwf0FnYOL2zQOiHdi3H/i0RT8Z6Q0OufexkjrfnBX8Ml+QdWQhPTOOVmynP2U537Z3NDuWSSw0CZz/THyMceaGg9XQ76ezrOt+G1EjwsVV9mb+q47cAwK/MLgHGq7Gck3N7ogAwAQ5YaQCO+lmuiUbPjz/Yd02QKOIDdL3mSY6VuxGFsKBYO8f0SRO+qjpT+Cm0RfoXnFLlFhjelV7VI7Aj+kvvWhqqdvsZh0oAjDuA/KteGfgQh2a4TwEB+IGv2Gkdqv3xJ9lIxX/3yowxySFuZ0+f1VUxedtXp5HyDwABORx1ZrGd+OIhIS8oWUL2EdmLP7P8IXICbCYmyEDV1ApwDnEiEFKoBVI7Zjll3KcVGMmcEDgBRlXZlJsPyA8JyP6fGtElmhHQ+E10HJ7Thld6rVLs/sbMDcspT4yhVk5V/cdobTn/kQ4ShBbsn1mFiUmUBjTYEwVOB8nRWYZ+fZRorSg+VbVzJwEziuojDaBme+4BQmK6S3hmx04jcjPXejw839OdX/0emPwxp6BBehtubLMbrrq+Kem0x/eRuI7IEeO9nvalmIHwarzjaNA80eco7v8zrqhCDQXtvbIBJZdISniHDToD9Vp42mUm6kHhfrXqeY8e5YvE+3q1aw1I3K58e2Q79VN900UgWF18QdfpQIPLBATdwg9uAABXVn0g9eAwYBDKBh09jReeRz/kgP9MBDPYe8dOVtgfULjZd9klC4VecBUoXp/+/Nxr25nUt3LNWyjZXfLHXhCqmA9rATdu88/aPY7n4+AGAT+ND337i/gEtQ4dRrGlDk61v16gcPogjUgVwKx1S3Zx+KKpV7WAYRfFTmnMBoGh+/rqA36lUBu8wIXFD8KGhlAtdrRoTlTqwsVDMspO1rMsY16Mzy9vKOik5cvigHNWkJYSI2kzf5xeYjU4G1qNAAAKeEh0P7f6H0DmPODvHjYSys6p7vhKP5r9wdkl+uV3Z6xqWa6/n2i3CaCbnaxxBF7rWQRZG7cyiWHlKfnkVk/FPmeB5yz60PqeexBVHUedbqSlUIFFn46vItwWNB5mdT+0Hk5XiCR5N6YJ60eWMgNuZunq3KmlwOgSF9IZFvTE5YmP/E+DqWFW25g+H8JrIC+4qVZU8h8qoFOEntb8Gan5nCwzXh2Cf1XJXipmQgC9UwMeE6iorSLm3mlsdcv1bA+L1Gxc51Egh7PKoDfoCfAMSh51NH/4r+nsBfaKnmjiSoxlIz6n6NnLJ6GZdgledksv2OEQ99NWzpFDN5fzOMEOoKSkP8iP1XiTAEosYw6eQtMq51ui6y+V8oEUBVHNLLXqOHl1oi/oYektmOyxg1Hd5eBPwgMQPWCYVYBQ2me0z2N0q1CmVfXrRQVszshaKzTxwLV0jPYm1Zlc8FsKyCo3pWKDEzPfx1B2sPBA4PZOmgMkq9HGsKIc5Sh8FXCUq8Iyh7v8ectcPz1hINsCBKl8QDSpbpcn5tIQBudtD7yaSsVO8xw5o3W2w8pAMcq/1an/tPs7NuJBW4O7gS7Ell7CnYIIZ9MO0OP1chcSVMbY/7+wVQ3c1Ph0CS5DvhM9iEbuhggBGVX1/BkWed0g1XrynA1m7mAWqZ34Clk+OlFhF4Xr5DM+q+Df2FUpysy1PHwPWh3Bd7Cki3d/K+SIDBJFHYxHM1tdUQ9P8ACdSHBQ42cYV6Ner4oK0o+2bcghkAIyh3zSC/X7GbWlLV95QLuvuZBxFSdTaYvSj0r2uByPQjOIrZHfhskOhfTZLNV5v/I+31vwyL4YwQr4BKE9JWHmxPEU2NFd2AQJNUpReb92cAt6hVXu12udLBXx+UfDnO6NARPTnYfwOZogS2uprKQGAqrqBMz0s6xAOG63e21z3p5AVddb+mqmUmelJz7GrVSz4MX+3DAav+U4IzJ/vfFD4V8bMz2iSD9RfPh2hBJaEn2DVku7rloC52Bf6czw4OegTryGK6hHumSJSD0VEmRRDqwj1W2uEYxgZ5nWiiZAnV/dNw4FBpjDYnGf0eoeCdV8Pf3H62OcAeLd75SYQFu1GDX+cMtaUuLwZMDCOr27Rb95Ax14Ok4yS9rVDbjdn+xXIL3aPCmFwpGiWj9X0IAjxkwPU5Q3DpSKwtnn1hpQAHb7VRd6vLWiquGKNsKhnYAmqdfD848xffseLvyWSPeoFhgZJm7pWnP7RsnlEVszor19i4JaG8SpB6oHAma2sZ+5mZ3BentE3Y5BFC/70Fg4nzcSfH+WEgaTz5RnCIwdZS7qXK484xv2U1QNyiL4lRE8MTm9Z9f+DsLRbSH44Xu7NU7itPXcZR73YXvsqQ/M7WMRp21Afj81jrXodsb9Q04y5Z8/rfzIxuP2ir8htD4I3KKxhmLWsfJjcNtd2OAF+Zu0Xk5asplaF0bDEq1Cl4fZFiqHaNzYqF9z81GWGdijm3fz3qPOQB5NMyT+R2ZsL1jGzD7mbzD3bLkTwoyXEZ8V1q+bZIn7RKYn1tvfVleNiAljTjLegyZQFap55cGC4xC0w3QTTn5yjqNeypmTUB0Nz9/bvk0H1fAwGyw1TC06BFNQedySTkKA+xEaB1s+OtPf8vNkXpX5Fjuhbil/Chk3aYjNnXkLbBhkP9lap4E+ihO27dcATbxoYiZBkNewn7RMoyWyUZnA8NGvJK1xqqCzC46d/zvFAVORiJ3h7T6vpgcDN3ReYHcNm4Rs7EJoFd+h+KYOvM6/67X1RthlbF56AJvIQ+MajL/GbaV3P6jGocoZNP/yk29MXcOXyHSixHZN7O+LQEGV3nun7YTf/97b/vo1VOAa4IsQ0lk5KlWt5o/dSGxhBOYEiIUYvxJ12GcFcx/paQ7paP87MjAZap+P+83+Q4VS3eNSfqbgdpP6K4E/0bqQdF5dJR7BaB6+Cfl/pHAAGnvC5dxSwZQ/USFks/Jy58WdOUDvVew2S7RaYhka0f75w83bkOjcm39m1XJQs3Lwnvyl4LvXNLo3SQqH+kv90wBF82nuYhuT/OHnWDEiTJdr9jPW5EXSuCbhiYI/7ArKem3YqEtcoepyX38xzCcOeWw/b21FwV4w3AglAXiU/HHy3XP8Q30ulmp/dZdr17Sj7Uo5H6AniyLVct9H/FefJjOO9Q7V4rRBuqJhnYYka0DT/128VnaPLbpAyM7UmoBjeWJOV1FC7fnAAEUC8ebGlie2A8ttljQRa9853NtBJo8TzOAGccfryT/RCX+KuNLf1VnJWN/yLjBCBSQqE0y0evfvtRXDUgcSFd0Z1L4atfYXv8p9KnMn8kac0oCRnc5ELxb5fJ8Gc/BLRpnngei+27SViuoO18rmoZfZ5iBqDb5wjfRoEmsHJq9l0M3sknD+wGgoh9Pxwlfn7XlVLp06U1Ov4sN6XwdVlBAx5lEncPMU7+3yyp8e+2w3swMNS/Ht9iQDafRMhcMS3TpXHEq+u6LWPgQQsJ+tKKveh0nE1VAane0pwAAAwDJcOncLZ5JDBOkDSCNoI+BgW2ZvWZni9sOftxm6tQCMFNBOj4JA9tfzIlbtsOk/ElvUSOU+5NmzB1nc+lKOjVhZVJSOUrJN7WZ8wckc1PJWAbjnuonaTtW1DCmGpAWuRljD6TP8B8N0sRSmBDZ+2huMifdpvE6QVosTkKlmietmHCPXXp8RAKpcbj6c4qHAPBe0pHTK21l17sdkzUItyIN0bKoO+9utTnFTCiKvXqEMzX7bRb+NBsJI+5KqZqqQQiIiiJaTXqYQjADBH4POYuMbmmLyc7/73r/mLg+C6J2cfuX64QwpYg73aY+6ggEXmChmZE2crlyAAYMHXudH373r1OoGEV6MoKYl2DYD+m+eDnPf4gali6ujUS2E9es7ksHGPwldQ/x42r9UJEcCgk8n/OS0rSsj9NrDXB5d4qV9UgX/sA4ZJCZ6cP2bjS+pXdQaAm4OLoY8rdBUIteJ6QHvGrhlfFfz2j59oYKpvLsBYxDlH1LnRnvWevn7S2ouAxqPxOu0P0IEjPWvnMZnXn93/qlTV95EEMD132t762g3cMJQGfNyKw0udpgsrwR2fJiLZAbonPMsCu5IQ6Q5zLZJXsiyfVdlmdZkiKnkf8v86cC9KFpYRPE9OSZacK6QQ0MIyAHX2rp52v8e7p5ZfvzXhlw3/5OEIJ09PGQqvl+gkJDLeIQCtP3mnPsZTHnU3Ls2B9GDwLoMHCI/X+v1ss4XetSL1xh7ghDrHoxHBVIXmjjtNPj45TSPbIrmEKOZfGqu4xnkve3CHCHOozkCPjW2gH2iCUt4X84h4emYun4G633+mdbIAAA4UYv/lcXf48caQsIh7gBrsKTNzYUQNpfJTZD/gFEMCPVxL+lYN4/lIn2upxFBjVrhAT+/XYvV24kUXRIzJti9IfOn/OAPqT67Kc0bcuRTsX8cHB8XJ7ZKFF+zMTX2ctsVbZb6LQv2s4a14LC4h2qTPaq/7ZxtN37RjPBVZ9zNggWr4u+IWjG4uoqKzf9v9tDTXJ+zZVFUMjhJ8jeS/PHo2jDn/tsachXJBTeuaKZng3xu4zhVWzlCyL+LRWjo3bUT/+bDh0nYVrz38EO3wGV0go0E1I7SIabndiNWu5YFUtW/cvMkJ6DlWl5boWa59c89gJQnghq9EFH18RBgdx+8YO0b9gydDLDpegoqGVr5vUSXpxGSKbTfTcGq8KZBhCTJMkyPlQ/x8gDeFhkJ63AaUZSgxuh7ona+3PfTiMM+uEkQ9n+cTwS7BWyWMMgTZ28B/R0b76z15gxB3+1RgPBGuf3lPBfakU3LbL1IOMv5fWiGoqi9m5QPKXwq0CxZqOeeLElAYd1o8wUpPj9f/dwtjsnrPbNBrDGHZijS3pCKqCTOEwzdCo8ivBsCyVWQvpP8QyYCEBFrvqgP1w9E+Kmyqah2p2jqTiDHqssfQ1gvXKK4anVvDQciCAixwAAAhhBmiRsQ3/+p4QBHZrhIKYA4AFh1xY1HY02mT3s82lZEwQSCwbm4jgVARfhVmdYsuqeXNPtcVNDRd6ms0v9AtMYLh07UyqTvyR1Gtxbx03ptk+1JNrb2ZClwblnHEGDksJNfWoM6BbLqStjPIGHx4Reg4v46WdeX2U5deBVBwYc/Ef2zN9/p3OLxA7Il00C7rGaytDximsK/nCzlqnBE72jf4s7FA1X7TiLQASgBAh2b3/xKpd/+hDCpXgo2d09Pip2kiEBIQi4g4cPSbhLwNONGrjUK67JC/cJcocD63WfT7Ju07LQf2hvonOslMvkQQWDaKa+nGDVjseSFyjIArC3bu5t6h/kdEbrUIiVLYsgV7mpz2CuEyRF6m5Cr4TxQ7EIcHqHMW5bo9kMJ3l5Xf/B4Mecfe+XeXZwBgdxl0yE6DLCxYgDMoD6QNCyWgzSFsoLMF2KeHqC41olyn+GCktn/LbvzspmyZnB+iBSt3d6Az5kReMEhrRYF07i36vieqeE1rSYwrjzvz86UCYtmFiKpos6AWp0Hqyq/7GYiDCZtbsWsBnWxxIsH7C13//uw57efOc4IJPwmb/UrTNQLvMz+Pcq6AvlplCDMLAtbsHdr7ytECCneBTVNlajoYaNGX30JyWGq4HhJrWuw5LnwuYd/gLlgM1aba4qB1vhFRAvOqDH+KuLK6cxb5BWKqTNUEoVu/9yzymYIAAAAM5BnkJ4hX8ADYD/le2sgVxDjESn2Q7w7DC32vjYemuF7Zy173GTJsrnbB4DQ1na7+X8yRnDQ/2/FOBRPIsAcfhnns/h/IzEC8zGdi9U1f5GyqvIGCougc2j0Ji5Iy8vKH9fImXNXhym3l6GC02vzPLcG/ZulB5zYwEGj4twmLVMZsbqrSSwQpOQSmL8uASs6ayb+uzNh3+OXwjekrlkV0ApLCSrjTqhwyhPKgiE9k0DcGs9KDE4Bv1VyRFz0r3nIovCC7ntYHL+DmZz+UZrCQAAAJgBnmF0Qn8AEVaT2+S+wt3C9jGDBkZeDDoPnbW8Z8uc9QuIkPiPVdAnye4ao8DnNvtHmlUwVRkjmtxUmgIFVwAF8x77knRHmWQPp+Mk4VD7idq97xarDK6DoKimi+6JWs4aOabP1hbCYrs4pSqti+To3G0VUTLGXUFyBHCPuKc0Li8pAiKNBYNYF7SFa6ISf5wCGD+mWUryvgAAAGYBnmNqQn8ABnHgJnedGu8D42IEohcLWPUgKfctWoc2JHpAA2JewjMcqQX9m/WZcsgBwyFkBMwsIFRrkn9bFjBP511+l12futtv/bDecT+UacZNlR8Anr7YMsa3Ug3saiUM+ZBv7+EAAAEmQZpoSahBaJlMCG///qeEACte8J/jtQXwab8KAAjmFBgCJUBnK+Pi9kZCCsSfhnHpnsQaHuJESab9lrwrNvUfjUBtkDURRhBZDRfuzabG8TR69/97rT2j72YXoGDXbr4sc4UBJY1EoObu0UPZ4r2OuSPBfUWEsGX5tI+h0o87cFCAgXt5i/a3p+rVbyvUecZhuOmcVOPpY0z22N9xcRrNSPDE7UIGgjJmudTvxbyZmaDSAWkPLSLyUjvBzBTgEVpCnZOiBFz+pl1Za/HiPOS1R76F9kLoSBpMq36Qoh95P5IQ4lyWEyTO2sFHe2tLPEnAknpOiAPJDI5GhzYTCqg8LLBd/fOd5DBnmjUquROZOKE2yHUnvYyQg1M9Mw7G5YedVWt5O0DXAAAAkkGehkURLCv/ACKyO5P6fe19vwzGvFgPNc5aZ2z9kORkHx43uAAm07PM3Dmbf/DkA3Rb3MGOQqbDt+prRiJhbR2rDG8GR/P/nJHvMwkyNjThmmEduhQCJjiRWjjyVCpXZgqSLob8zMnC6Hn5ZVMZxxvJI2wqxBOBcijWhtmhEzs0828KnzKWnpPpeklOaa5lGSdBAAAAjQGepXRCfwAGb8nvIuzyTzfG/QtQHdtj2rXAAQplDuPwpLU5tuz6hGesLXZHtrXXICKJqaYWuxhn1x15X5g/wy2SjoqqiFnWIZhBTExf3PiFZ1Wzuz0lkPo52QSAuu5c8ntgq6rnkqASoOnIYC24/NZAQbGxIsuo4WJhRyh0Fx9Dce6ZPqGzKyTApStu2QAAAH4BnqdqQn8AAo9v4GumK4T6p5hHTBOOVIIv8P7ABzON7/uAyVIuLS7IKbvSh3oD6/Ngt4ShCKQ+v0NG/mQ2LHwX97lhimkrysNo9xCogiRWwOKHpPu5v8lIvOs7J94PczfUEdWFVypitVThSSfXKTzxzpjf3/PB4z89FDajnsgAAADxQZqrSahBbJlMCG///qeEAAADAABPlPYvC9Qb1cAGW1bHpb98nKzXMZQrf239I9PuJ0DBXcarQR8swvVz/7tCJMAUHVBsdFwwVORRCa22Znd52kP0492j68JgogvnbNqofzzOSHWZmkjGH2zymi/hpqiU8n5ue/gCpeFU62CP9FIdUTlWAXzl6EhbkQABD03qSi8O1QvyAA8VKm0aEaCJvruRrESiQ7PvG+MvHQ1jfSicOygpHOVhz6pZLaI6F79SCZeKeQfO0Onq1spFatDn1W4abSrX9xc3naNLO1ccoTT5sfXdjejh5IHJXanZYZYrQAAAAKhBnslFFSwr/wAB8a9EX66BsJMK0TG+2QGZcu8f4hj70FyPmA39wg0SB74kOET6wyBd4AF1GanDV0HHS+Jei2QMq1JBUNXu0PntpVt/9H4TkcNT/dfUSaA3pQuhFaFHu2Ea/dSW7i9WbO+AtWUAhLv2PePl27Rtd+VvHC3ivBc/jUYX1pU+7Q5Fk/soGpUkwhUj6m5WNCO4ZE9blBWLHGnZ3uvXYi2/SIEAAACNAZ7qakJ/AAKPb+BrpiuFHobx6yb0sOlHFqtXXBhQMho/7pvpgQAL6sounCbbwxvImMnZRNIpfz+GwNd5Irhrp9p2/zksskiOxQeWanmmkBl3BoLNTLc60qwf3EA9fsiDbEVX2BQVXUloq0N8OXlQ2HxoVIgP3aH+cL4ZtwkJ8qGMFOQNly+M03ZEfZYcAAABW0Ga7kmoQWyZTAhn//6eEAAAAwABP17MQ1h00AAmeuLzegGDSHERSZBvbhO19osnKTkdQEIyt5iuUmLB2zRGxEzpG9QHvNuhaBLJtCO9yZUU2tTJnsg555HgtwIFG6AcMRF4DyTWQm2E47fdm3dswkVa9imDsyJIdCJuWgqJ4sMtYxH9Rs0sdINSIt0hIGxJNepOgpR1y8Bw1iBJ4hefYiCdPZ5RVUJkrB9HGmgqjoaOoAk1fsiToRrqsz+EpJ6oN0VGhNoKZ2dghXaL5O+hOifEpI8N5hppjRZMBHMscksquPRI2K1A+b0lu/LxpZhRRoMVtPQOh/d3v46Gms6RSUwUOPIOwmHMOvM0dNn4RM5juVFCQkr5+MGxrexAy5m+OgAE67ZM7otiS83Tg6ZvsbAPYlZK8ASKQXYTm/VCiP0NOhiKl65IntdGJNRdIXKoMBZS/gTp1QdxK+5VAAAAuUGfDEUVLCv/AAHxr0RfroGwkwrTGELRv4Z2aUIKkFZ5ABzTDBEArs9ZTOOOJNkqqjztx37dsmi3lH/y+VkUqw8KV5pOllwECy+XPZmOnaNTKb/Rcviux7xY5C8U3DDVOzaTu9C1IZx+a3er1rd1fWuKie6kqs4xgi6b84mD4IvBeqKnkIJEolscj/b86X3xlnCM+U6nBjFelRvHxpg6UgAjVVypUs+ysaVuWvxqdbwYCR1eEJnx/wYbAAAAnwGfLWpCfwACj2/ga6YrhRtxRwWgANhGx3hZ02NSeK1KLz4Phm7sBFcCc3NPoo+T8WrK9ePtEHQAG1hdmIt3U6jkDCwu/EoXMe8RwCjFJ0gITUXslBfHiNYW74jGYUwyeeyqea1d5+ipo/os6Z+u8En5uYoT8WfxH03VkTtXgXdYDEC7Xls+xuCrEALd5gJrYeCPeObw6uMhLWB7+rvefwAAAQhBmy9JqEFsmUwIb//+p4QAAAMAAFGhOJ+Cvso7EY3boADsX1NSjXacLPZVIdvsCxYGgY+3bOGiMudm2/tjBKyreReezYAPtY2Y+I+2xURgh2WU02VOUWiwqQf0fWOLZuan0+XqQJ5faGMwYoXAmTvA7SKTjjL2BN6rmgIFG8sO+FYKPEsaRmL7XhSmBJxOK22IQNSbY871N+utVhe81r2ZhVjnKZKIHWDPnZTLw+INV/oOwE1Nh8cd4lac3x8DFEIAgYZ1HW2KRxd8Q3/WwHBbvosmABjVQNJjrkCwLvSQan7918TUInMpcO/1q2vC8nxVwAIk3rXOEAWAkRUiHKZQ/X1dFbB25asAAAFvQZtTSeEKUmUwIZ/+nhAAAAMAA14r5Gj3wfUAAuYrKvNzIezfoZe23KRDsBPZbampkqm7/2871+z7xOw0SH9z/ChPyAMyWoJ4Cue6lKP8UqAIvJDkzE9ACmQs19XhHUolhk3vT0GRNVok1YgbIqWy74iNpJ88E+iFenEYdbI4lHvL2ZBh3v9VnLWFxqDCzOc/L9Wamzpz6HSiVcIJaKIJ70/gVSEGennlakrPyLEfagf+Jnzj+aHfGb9YYFvUnciHo5TH2zOxhUVUd4jZNAr/b/VwxKK8hzmyIG3w9BvTUHn/fA4/lrRYDP4PaHpaTrQaMM3cbE0ZaWfZAiusbaixg9iPYbXiinp2hWjsF4rPlaFkdvOYIYq19o4mQSZuieBzJaN8Mi/sqq/ley3Z18Y2GtLL3OjojesTNliIQoPKEsCqtw1SE9xHIMif/9S+CrGMm0Ho8FW1H5hLGoP29I8W5TY/+y5Nkb+MfaLWXc9r4AAAAOFBn3FFNEwr/wAB8Y3YDXrDIITZnVZwPOf9BKemZr1kAIU86OxtFAvnp59F7HB8o2pFZmx9kir+sxT14kxW8Yga1sO7yLc6h2kmuxZfmMCj7tFxV06/3HgjPJpPJwO0XY0ii01qD8TUb1IXHdy0tjEeDAKpbNI3TyRPbH3v9hZtwLHAYCWpcxb0MJdXHzftwmRb/huZvyn/Zn/Dl6bjXSDytK91YNqSOBOncf/VeFEFeeKuavsLV6qv4wrEz2gMxrCknXcz5jcM8P+TQp7KcotrN3B4DhvY65KXFUoONDT/eX0AAACnAZ+QdEJ/AAKOjGr7sbYYiyab/OvmE4iW2SKYN/zD6W/IAOXVH7t+oanxiok2eZS+PbZcDWF6V19NyfcI49oAN0roXFtcpe51HqDjfJV4R/CfOqWJAWbAIeQu2pLPW9mm6kX/9bZ5zlu4skO5zCj5BQNfME1LCONhY0eTKprc37malEzvF99qi29PW0ZpiGshGHG1I8iwhYoOgFNo6NlUMHVHgUfdf0EAAACuAZ+SakJ/AAKPb+BrpiuNzYigFggA42YilNbgQNZgHlxktSYmIwkBeNUhVxkGwrIw/N18AYfn+SfM8uy9BH0MBgWtVQiJ31PQy85WmCwnOp2EdWWfNqvHl9RwER3CMK2aCNSaQvS5eVeeTpdLYEUAD/MJwqWclmj089bAUWMsHFOmnncHxUIS4eysnfRQ7PAYayFAn9LEvi7k1Ltz+IL47W+xJ9euDVMqt3tf/ayIAAABP0GblUmoQWiZTBTwz/6eEAAAAwADcr37qcY2K6XG/vsLVAAHXT0PL3jQejekTe2yZZ2VS4PvXjdh8qN3ZF5CuF9V4WHa5m2+zVN+R8q/6qmqIt/t7qEbBcHp4dxB9GDwBEG8OFR9Ptb7jTEhN44LN053yKiE4ReBKnEuL5smIylx8UW2fziHwwvbwVDcINHhFscP4Dxo6rAMwJbfxopgPZkBt5bEpxFrj8w+Y5i/9emN1sR9PpLSY1bfaNYcTFCfxmAipCvu/fF29jmMuVpc8tXC8zgYrB42McKtLf401uXcKfhQWexXmqeQ7yx2uliUgP+HqW2HhfgFVAT1O0g/piedQRziKr8yfY4nXtRo5Z8+9qC53czwK74PWiEQ9D9RLNi4Bh6qW847YTuSWs1c4JiqjvbphVgkiQSldxx+s4QAAACOAZ+0akJ/AAKP5v3i5UVxxVa6Tr2KED1gAC8zcrpqwEuoFU7Yq0Y9feMq+sdX6MB2G3phoSA1XF99wlH69fPbwtXwS91EajRkUn8EOj/dB9Px4iuAGQper0VOCrp6Nvkzq/O8JECLw00Rp00gPlgDZQeeU7XcRQrKGPWsPQ+Ip4Z141aGvQUctX6JBXJuoQAAAQVBm7ZJ4QpSZTAhn/6eEAAAAwADdCJ++m8ACH6XC0YrIBSkgxvBe1oKGrGL8EaK/B/IgZe2mTGULUxL6kqQWfY36EMGBbblv8+KpA68FtIvpp6PhgtYovjWMJsunaBL/VBRVcIlTCpLJDaEowALLgQTpWQ6upWXijqyyxn1Sw0BhqyM0mcYNRIbFFWI40eFaGIE/KIn95gG6lKjVqtdtahWeo2rKfO8oTUNRMRggstAg2z1p9/5pM3jiTZJGo5AIjyNSvFhSN+wCkbByLMQFl0O3Swn+w3UHCkDm5uExdioZ05aQj29GNWxwyZHU14lDnIvZyq484RP/lc4sBIS1owRVOuUhYIAAAEOQZvXSeEOiZTAhv/+p4QAAAMAAOHi0W/XJ1ABRhzgAvZEzldBE7926MvfkC95N3WaxnwwLQ3k37P3NAXyqfmSZFtPbhldfgQYapv9QsLigEYIiIAOnIBLshZ9PgiYQvcD0xvUUBK85MqKawkZOGaCkepgYckuRI+QzIJlfotsfaVxHX/AhOECNf2yWGBcgAP26T/wFVOjMo5a56s2Q7JGmiLGJEw/gblejXwKHVhmfdC8sYc4veDpIuPPhobT/YNRevCe2239rTmR7BGg79planpolCGrxpIDNXb+BF8LgDIw/pzD8t3VTSUAQCZSy8juShlx0vI61zMNfW4cOe/TSr7rNc/vd3FmHC9h3gnlAAABh0Gb+0nhDyZTAhn//p4QAAADAAlohhKxBUgATV0K2ngXgtznRjm/AvOQIbt4w2RAzCYFEGo9BF6qg8YXKE6/JdcVxMoEFVOvfqgkcpUTK2HeaA7NpuuV2DFfpfnrNLt6mAlKLUWpjGGNxAX336KlNuSQETc0N/sXZiurhL0tHTLxElAx36GdiK+f6Vw5vtJWFVI327G/dljSUGbU9NzJ+f9Y51VIx3nvtWrRxKugeaX2QE3MyubiCPg4M49QT7rDqdG/gZWh5WZE0cwNril7figkNQ6SCNBJqFntrYp41JTeJI8wQKhGEClEU4wK03DGidL49nnKOQEjocmNS4UfB8w65Fjgr9P0v629RtlUv0HjOuExbgXiFC2cQCpLsTjw5BawP7md2TAn0jBaPZqmc6wcpqwK0zT6RiN4CtiRxWw6MRC3OGRMb2OiczO9PFJK6yrCibg/v2OiDePBdVAQkCxg7MytuQf70gCACWrizSx7jJqGnf4hh2fdBODiiIVsCNQTlcXf1ZkAAADGQZ4ZRRE8K/8AAAMABR6/5y46+dX4AYuaxK1dAAQ53wHXyz+GhQv8GkHWHdAd3Is1owJva8gRepqruq7wGb8t1J5mfNjAbynev0g9HIPITEuL/sNPktTynkya/L4cbv9r/ejrc2bgb0fg5bu56yTTHD4IoO9pj1j2ByMt28IF95YW/ng7l0//I3ySNG2RhZhHZR8U73GWH1BN6DanDQniHdjeWuQ1KvwOuwqsalEaelkySX8Wuot3yEqDodtD61uLEK1+/z2mAAAAmgGeOHRCfwAAAwACe8rKYZOgbqAA2o6niFdWq1dmlkk1CRDvfuWccdC6W24jPct2LZ67Xx9fmq+AsYV9f+mByeaaEQ0AZgERtd7tN8tuMxDZRlbwZHTcuy5KyK6s9uEd3TYx+/sAue3BCDQGEpMZsIV8SYOrIN9rECnq515W8pyIht3kf7p3I0IzBv7ISU82VtJD6ULkfFv12dEAAACTAZ46akJ/AAADAAaZ4zn2Whuqn/edyFkT9FJZv0KEK+ZkAA7CRyIqQzLEqyJGNu7k7jrqC3tejwjlYc0SRf1oBTlTZI66om6Q02lZPRFyyz5LuUyws24hkK9cv/JB6pCvZnCbMKSAdenTvpBvDKR91pM9AwwmJVlOCNp3jauuJ9V/4F3fTVpvoN/Ls+8fmt5IPylYAAAAzUGaPEmoQWiZTAhn//6eEAAAAwAJcnnxDzB5NcAGxOFPj9Kq5Nrf2TzKMqUsd0svNxPBUt0/7De6mXDgz2Tq6toJSUAMs1ZZlPRS02bjYZpv+DJunvvWhFqSXqkIGUbpwfg4l+vJZw47MjlyI1E0dyVHh1zpRzTiQfoPFu3f66Z84NrX/DPvjMiGRFcdfYhFQ+Yth8+crMXEO5/lxg74x04FRr69MQTJA2tB8hLNz375r7Fctq0+XbWLc8NkUGwEX6MUKZxjn3hByleCP+EAAADCQZpdSeEKUmUwIb/+p4QAAAMABm3Yu1WyAIk/9u7aBIYSL/veFOadSDB1Bi3K8dfhh6qwsaW9Q6qS882Lxza1iBIPn39552kFBMLwnpcK6/Vm4qoq7rK+BOko1I1ED8vyG6Wfov1f34B8KQkUFZByaUXphyYZGB3rfSwvkPDopiqIrue3SF7h79Sya1uVpkNMfHLfjRgAu55T0V0oEAGmhwOMp0BO0jPEB7/PJ9C81zy1rxPhDUPKWAuomTFqZoTZjFEAAADMQZphSeEOiZTAhv/+p4QAAAMABpXSSz8NkDJMFkceWSOY49u7VSiuJdfnwANuNMrXfRxWsRmeUZhvJUgcvjKcP+xO24/9dz/ucRthd3++vzIApBEJ5bgB+/jWmRfhFdvJQHM7FpRCi+3yPU6D1U11zt1yA/sUmi7WFmBmgBWw38EqoD0nJXY6wtWyzrXkGfDf1Z9D6oH35jsy/d0inyb/hrbuktEV66zot/fGOikygXJhEUa3rpmboIZ5eSy3ze6jRXjfSZdTn869vd5eAAAAcUGen0URPCv/AAADAAVmu8YD9BvABzQva0tB09SY60kQeQmABxdNX6Q/sh6M/WBq4ps4tb3zlOlFODmvNDh/tM6xWJEsf48RbYVvpcA2cyKqt+u5uQquVdBzLSX72HhRlAkhDfN/HT2fHHevP9CL9wZAAAAAjgGevnRCfwAAAwAG6lu++xJQADVZvovjVkMJuEMiT3rUX4DvUdgIVrxDigxlq7oein3+udn/6W8YiTavFiq18obK2jM3d07wgNcJkiwpmiwAwYkMXfIuQXukD9bPhGwYLdi/D1zPA5KNZxoeMmSzujRUvpA/unfIb9TCtbAW6SK+hswg6MDNckQcs4K/wicAAACOAZ6gakJ/AAADAAbq8b/TFZkCWmx9t2mUrgAF8zHREoNvkE8jpSDpc+bVp8YBOrGTCv9BUPyZNtkKwHZAgn5NWv9nyrYUJNSRu50GISDJHeTRQtahWgp8VpNUDk3twmhs89nkYw5lRnf7/VPyJ8LIAy8QZpCP6pTHy5aPGfkxUzz7xc+0rfdC9UhfJ9gkgAAAAK1BmqVJqEFomUwIb//+p4QAAAMABp/ZO4wSnr2wA4zrRTfO6Ff22LAz5KaYgE7ZibRBNcqfqWABzEb/E4aXp3AwgAwq01gXlzynafc61QL1I6ZqJvN6WafwsWxEdxxNIdmz1BUqGkP3XPFj9N/pQgTDrbeT4v30YlHNdnbjTBj/r5oMfUZkq9r01HEmT8JuQnMn0d65hTlv2xGPSgjPdn6xRgtGw+Oebo+bsWMcvQAAAFFBnsNFESwr/wAAAwAFZaC5nTIHDhD0bFYP3TuZXiAB4Wlsy5s71Gu0GbyyENZJyPBUKOuZtzHq4EcSXnKqk6thZ/wwHO8CQS//vRAL9TXhxIAAAACLAZ7idEJ/AAADAAbnv6YmXiG9colDUtAAvmY6IlBt8gnlZl4lEhN/dzPxx5Lj12SwtQIf4jCWEvYpn/Lc1JB9s2NHNqnMdKkIsTzhHmHUfO/U9lSz8clSewge+XxVcm3nBeqrOK5Mq2aopzQDTra75yWmE8ZhjS7tqTIJE13vOEjvOP73mNQv/b7tpQAAAIMBnuRqQn8AAAMABr4e9QqAx7wAG0Fb880pzhuWgz/iTe5ear0Yy66W5yvhtMerPduR1oiGvDsDO03y2lJUctAgPZMreqN93JXNPVad5qY0Rkn/TXeerQpmKl25XIW0ic5hj0acKoX2o8qkfx9JB9Wv2vlluCeSOOXXA/0weB5/cD478QAAATxBmuhJqEFsmUwIZ//+nhAAAAMAGT9jwUX67RsNUA4oADsyM4tnrkmfQ+qhjgJ8/G79lWkFnZtYqvZ+SNdGw48XrSZst5V5jCt0/joamxRtrfBfRHCUzfw8a8OBlFCXRIYF2QXhTTlwgP4/uz+Lpsz1G43r045DYrtk/tItupgv2auJde92vRYriaJKEUobM+JRBlfaQujsAHFDHHdhC0RtXiTY8/QlrltJJe08VOhl7QE3UGorKl0zE3rxmJQtoaSqXAxY3+DeScPq3t7fXZfZuhZiHYvBfCZ2bBCX0cKi5odReXZE0pn5CfKrH6wSK3QJI8qtCaZNsSjyqO1d5ZY9v0Kt+FpiQ6PWUel0uoWJor+6WBhxc/Q8984YU29Eu6M6CVWvb5l4OVbWb7sNmcMKAZ0gG4PwhnI30IwTAAAApUGfBkUVLCv/AAADAAVBpil9iCRvxS0PzceerSOnN9oE/SIALfSQK6vYRXaaQVKRJKG3kwpj82lIlX3w3MhR/F1W3iu21Ey44MWRVcMz/xlx9CPLcydJAwqnBrY4kul2TYKJNOmSczKLqBlpZykewCs+v3n97p7vvNB9z9Zwb8T9hPktmnvHTRIJ/+ifB7rs/2g4aSeKT70hKWaRbE4mV18i7/4xEQAAALMBnydqQn8AAAMAAo2ULv9G9tMEdxeyNcADrPdpGJcAOY3f8nehyF4ldqQhna96MI40JT95140nrE8hj/g/BjpoIKLbq9mlb8eaC3iKOX2L9lgC24WK2VoAOX3Mj/wgjemFRubeGKvvNdghGjozsd0QA1y4eJMG0xiXAonEG/vDYNigVDNr5eIZF4B13MsC3DnLMeNd61+E3iErUkYFcuUwYOYxyK0dNdofuaLb2CaP3+9qQAAAANlBmylJqEFsmUwIb//+p4QAAAMABk/ZUSK/VVPBM9n0y8mIAsANAVq7D3vWhj48QVBMC6165AUndV4u3142uaSzcT8nXzqAArRTOkrbAnRdYHh4rmmKq9C8ZHpBhDQWmGWo+eCwg2VAxZsI2jXjzqFhoZEwbbdhtliaDLIKhDqpHx3zoLfMJrWQ/gJcYXSlLQeOF934yOyaXviBMn0KHkgygqiJS8gDswSvnhFy7fCUqK5Myni5sTpmJFTDznMWPmt8CtVUqvFMGmwD4LobcV9Xrd/VYoVpB8+AAAABUUGbS0nhClJlMFFSw3/+p4QAAAMAAm3yNgI2w9MQZ/ebJwiugA2jRzlsfQHCfeHUsQTGwWXO+JLGA1adVJSrr71aQCjSt3Cdx0Sdwby6QgwVfu5jEP0X+elm1rMdZv/1M7aSVNSehaelY7nA0foAM8kLvbFVpSC1q44Q/Bf9PiwmTZ3IMo+pabVXIaONZLriUAi2TPauyoKo+E6HDunJGnj9ChWOTXykQoQ5s8pFQsAWHwSg+C8wrDZy16chXWAYQ6NtGyT930El4yBxw/c4uqJv49S85qlud50CQqe+P5fLKJhMFMymsaa2QdJyhXnpbe+602GJltumolEdM54JWk8svZxqtH24NrQKj9ZM05moF+EJMQYDtb6z31TYXnsOULuezATDNulXRP27CctLogWPRATtrSSqKMzAIAyF32xBfh2LW82WOHQMPrguKMoi7YEAAACwAZ9qakJ/AAADAADqqwyQW2+7wDkzZr5N1QYAOcOcDPjOU+EgT+hTL93mqaSBCvitZNB9d7Lma+1JzFHYrOGCAxV+G1odncNlzXRFkP0I7NSoaFCvMm34oRekUiDCYJ//6cy3pkwu1QyNfUzZiSzIlRlDLnlIJbyEUSCSjJWLUWrQdmN6bHE0SPm4ia1KBdkNM8wmBRxOXOdPI0+1pWjSoeIEOqMWvhh+W5Kju8V7SXAAAAFCQZtvSeEOiZTAhn/+nhAAAAMAA2PwdzNXxrbMWh/g8CYQBIY+3fFJGs/2CJZhLjWjfPF9mhm3dPQr5MK61S/klnzGyznL/+H3GFOTn7n5jyX2f2TojQ7gBLChiEBHrP8f37n3wUtD4ZLRHrrXszK11YCY6RJJvt1TAMMBFD4p30hpd3OGiVQLBzJ9bubPGAotmKUXfsVUG00T4Cm2ubm+12h0QTXo9ItRMA0FRTZj4SYy7iTRrXXfWQT3TylYyLexIFFRqYXhr5GwT67GGn+IWSyI6JKn+Y5ZMBxOCLQfMUQfhrH2CfhTw1D4AbbiIueW3rtjQVVA2IjWVjeGsv40DVNm69vpo+gntlvbDm0929Hh45IE1KTi+OSW1Kab3VMfPWyztJyH8VXhxU/qAFwiUuiPl7DMui3BehVy+vm6FhXWvgAAARJBn41FFTwr/wAAAwAAtbRPnRqNHKCCJ+7CMMlyVws3DSoAOYFdkMyDyzZhzJhqDI5CCIMmawAgEua/r4mY8ZSTpxyMwbDBaxbQVwCdo9ClsuQX6q0BnfwJ5AxZfE6Q0DKXbOw77xCQk+/KN990NXaFDZDo9JNRNKgJNzLl2WGdnI81OWGIgq9Fi1NqwbFTfNI/souKlzjLP/SMrjPNVDRdAi5XjtH4bw/vM3kQnOvxplfL8u/Lq5zKeZOjhGr1MCzDzV7uZ0QSLJCh7yTj6Zwqx/4zuufa8tFJSamKITo3j2lB4z1tjEO4pEWVi7qZ6TyBtqpk6/joep0FJWUqnEwYGvBMjGxIxQU/YevtObi/2DiBAAAApgGfrHRCfwAAAwAA5+vo63OclFcKVS1QAhOdHnsgQugUxnFWjQx7wroIxnaB7JWHWpJAX3tVkm0dG3EwTR4fJPd2RA8ipFZEpsbCVWe0yptWdpta8KvY9O0tvAGksr7lxeuLg23CVLDfRdM6nh7d7VNfg2bKYCa+abpYCL89k/rULCneFoPFyS5Hbh4W003M4StU7ah5/L/aCXikJ+l0xXuaVfnstEEAAACzAZ+uakJ/AAADAABWe6k7eiV4AEtE11UGbF/TOJ/IW8AB5a76vNBhF1dDg/ezTCcL+lPnQLorRmmAdGIo0cdM3wy8MhqyC5aseL77G2DeJRbL2zayPyM3pVpgMtewHzHqkGszV28bVMzr+4WU9CPxQZe+XTHg/qhfeOOV5e8n6WDsUYheC7w8P0N66Bb3aMgtb+nBiPQ9mp1UCRUuRv/wwbAK00lI6pGo7NGFHoghAc/Y7MEAAAEnQZuxSahBaJlMFPDP/p4QAAADAAE2+LDX7M4wtxQAjI99SXiYhTU0Koumb/PsJP0iJUQzSEtdMShNFhno5/Tlzmh6xjoZz75hJnO+eM8/LTTi48vNrvYf9PMo83OuHxNhdwiU/T5f5vgzv0sgvOBThJmgmOy9fXcAqKUEjIPe6gGYvL95lVGuh/xfNt3HHSSFbwqNlUrrQX5Vvq7BoYxA4wD+mJ5DH7UR6sVKw4wfHFrAPWdDaRP+BtQ+A9LU+idwAaGb3dAoWBh3VAIhR/OQd3StWbZ8BfgdlooY+vSoGscztr2VwwyUCeCGtge9c+ryfben9U4lj/gs4HQHJkiDrGmWPxsdeK84+T+FttY5x+5P/ADzh4ArYqocgbtsTy2JNz04LZ4EbgAAALEBn9BqQn8AAAMAAFQZMJfmgB6B/vcNm0AD6HBiI24Wv/mNnJBee1JXFDz6tR3617Ffh0x9OLBmbitHlGT/72Vlz52aXpBvfX7IRptAHz6q9Bak0i1/Ty6iaBUNQXh4/N8/DLyz/QRhaUq6G9B0MbfvoSZO/1yhUmyI2GnfFVEmx39tuHc2rHuN84GKyfZCgxXurWP6c36YmmOpJqs2ULXexzfFy/fhp09ktTHb/zT1vxAAAAF7QZvUSeEKUmUwIZ/+nhAAAAMAAtWRZABNNH1JZDgRfvKyo6fZXT6GiCK19qCRpZ1w0yIRb0VcJ4rUaBp5q0s8bbB38iPnFpVuhX/ZOfEffh1sHh2XwgWy39adsnMDCA4jfZClx+HT0mGfv2cqtuyuXv8UISyGiUt3w49Wt6SiWlhavc2AO3uHC91lBU/YAzZjXtwWPcaGfr139Tn7+j8S+BDx2pxY9/TWntUIq+jV2wYhu6be30Gee2BnqoOr9NqSfZzJcZp0gSVnNWpXH+iNa/C+axHlK2CZD0QX+P2YZ46FPUA2OElVe0Z0xeypU9/N3c6oT5pWxp2F91MG5UNVIvJdRs9kiAywIi/P5K/qSCycPWd2R8iiv50+RY4IXrJbG8sN1vf+/96EB6MuUk0QtreFkWlE3Jh4TlYvAo21VHz5zr4tYywUyOcyXjwf1Kqf8t6Jb66cDmy/NiQ8I7oIXfaQGkwV9At21WrB9lncX/27Zu3Z+iXVXmbZIQAAAMVBn/JFNEwr/wAAAwAAmuu5qTnlDAtml3De/sPUXfHgFd6AB1oBKzwROGISMWLEd1jUhjRgggCPBpveth1PIeModAP0jb1qL+qtIP6+/KmB8dp2sKHfMlog2pPalv71zQ4LSZ/W4LCn6VtMnUiBoK95bMcVwb0ChUo4twXvCjMnvjNLZZaaCdrtaAgfi9Zu/oARv15bZi2gvuy2vyDLoyiOqVQ3f4ClMehtO1K28gwKDI2Eh0w2kobvCuMoZlDym8abJv3NpAAAAM0BnhNqQn8AAAMAAMQ8aZ7OFmRoXYUVIADtDnA1A2f21xN6k5m8FsFDGuUw9b6ET3I6revwc5Y0n222ogS0pg1R8eB/btKUIFAtroe/5+/XMhkmSJarooxqAOPAu3oO5P1enqpETyYcQcs8+DfXb1dxOYKTBH37OuofCXi8Li4qRLBjZqJKjgGodxRi3704aK0Jo39vU/+uJhAMh6HClbsLAZvBVemMn8Tm4KFHAq+wWRnpFKQ8vwdVDWkQAICRwjztYWgWrR5gJFKj3+mMAAABMEGaFUmoQWiZTAhn//6eEAAAAwAC51q67wAxEzAAHZ+aJ7PbSnGUgjPcKM+6e5gn6yAvfPwUvES3HrDg30fo5CVqtJKIsKaCSSTiRPF4gotIksc32AmCjn9eJPk3yiCY3o9YpqNLkhx42oDs4iHAjgssNdcTX7/WGdt/GRlk4NWeFaHrkWebgJf3NNRD6UlkXlq5JFp4xeqXxXpFUI0Oz5fqxd3tOxuEwYv6INN2IpyYtGc2I6pykHp8YHisUIMj+Efk2UEdqwb/MujIqiNgMOHWjWKK/moPDEfT3VT4Dtbi+UScBQpBtLW+6XZwNcBZ3YD/OXbb8fDjOqDaTnv03gQBtI3cM4IcAWYfYVgXpq+5lsANKlSech7PhW4OLihutMNI45NWRTWqvrjepbKr2/kAAAEqQZo3SeEKUmUwURLDP/6eEAAAAwAHOoYARhLjWcO/qfhPgAvmlxee6n4+YxhmQy3/qtw0yCUUomm1QCjLJ6XGs5ixAkYJqGFYTsvPrmFHvoriQWkEJicpr1byNpa7e+6wNl+qGS1p2s8Ak4r5I0IOw8pI5dvgQm4W6Yyh/sxoxd7MhwAqWep+27TiwvrJqi/qCu0SenGoJ5ZRAwc5/HdumYyYFM5lAm8qEHTpB5JQ8Rk+i9N9GbmabO7kmCF2yh/wMBp46LH8n1BTsMA0D91FhPOlt+hN6nHY4gPj9nS4Ij/SWTR1Ndx71TPxzGRemTenTR35LHpwr1kHPBpXHfQipp28ZAkbuPnfDSAbSCqn+uXDzO97S5jIyzJqXwW9SvXrSRpaQ83uxM1/4AAAAMYBnlZqQn8AAAMAAfx3XJJo35W+Ycb1NS27u9NuVsoOIgAdZ8cE8kx28LRw6PRcB36OJ4P357U24cxCACO6NcqJUfA0Vw7A6D8mrIMdP3d6g46TkZALNlSL4kNBeEOazrrYmm00St+Hal2MVkgEU9fnkQnGmsqMHA0VqAcjn9UTw60Si+NN7i9HFLKHQPgMy1x/v+yBf/hCx0VxOeGStG9+yClQPnVSMFxDdMhCMj8etTy2QpaEkHySEe7qw3f1vzE0qaIsrcEAAAFHQZpZSeEOiZTBRMM//p4QAAADADE65+UdJHUAG0E0Fa8d0jASrSfEufbRvPGQdsYZHff/2+1A6zqtKgpwO6QL8pDJo29to6sqlfGxEH4sx/rxzpui75tmPwSle3AIWDTss5MZl7kanY1SX25HICQ+45OQbpzgu5zwpImht9YHxWVodQKmYwPHHjROSTg+FE4c8DixL72VhHWCz3rhsoCdb/ea00C8Zs43QUrB9j2k40vGk2O/4fwzAEfBMg9fHypTfn6T1hnJsoAtue+8VY4/xnNxmMcjDbthSzmNhv33sugY/0maQCZPZtrNw0tZB7dSmVL3HY1pErNdO2pqmHbpA3DNpA/An8UyH+hYaQBhpDOLl78zoOg3hGRN8RdYvHGsfZCjr2M/eUHbSW/VS8BEedDwSbHiDukfr6V+02RsQTAEu3H55x7hAAAAuAGeeGpCfwAAAwANM8aHOr7JNdlNd3VY32kQAOs+PEMxVJWaEf5P1pFcmGfxrwO/PBRKLBfcnpwFzd95bWXKydDnVIcORJNZthWVnaetoVvdbHYWOWJ7R+/HcxHnmQtigWtKfzkZaj5it0wsbGmoMm81/CSGtsFE0o8o3DSE/BJdxdTPhVeC7RToipy/cl7HI/Qa9hEXGuG6D9d4w9r36VcIUTQrUu3QhK1EQ/JPeX+/44aheEG724AAAADnQZp6SeEPJlMCGf/+nhAAAAMAMQr3pcTwBkLWvAAXXWbYyDPGAUHyMODTQIY/nOv1gG3ube8dASvi1+D8KGu7j25Rx7Z1e5W8gX6ZGetyB4/kwnVUFMehfzNNnEjuL8iIw9qpYmN8S2XHrTI8ZlSI6j03xzfbLErsHLkqd9CUJMo5EX6Ah8x2R5PE91ATEslAtrryV+bjdnXZuBDpdnxS1ohhVJaGssqBBZ7qGMHBDctfeQSrKZgrSit+PcM1LneZ4+vzCR4CogTL7RZHCxH4gPH6wDriJmcDb4+m0sip+ggtdaO0pDytAAABHkGanEnhDyZTBRE8M//+nhAAAAMBUGRAMVFxqQAtZDSDznPXB0KUJFgnfWCVHX0ynHV6tBmlblMN0EIu92ri6YT7JB6Ijs0I8x7QPKkvjS61JpbFxhv4KXcd4x5iyhZVeihX9QeW8u/JlWsrZQV00LnWFFBvlhWh7hBuv+7OhEz8aFXA2HXbhz7gWLC8ve74OXdYrPLBAu0tEnH93x1WDD0tnSk39PWMSTSbKe1NJeMzIRt7AZtTPzOf38BiAO0IW8BtXToAhbxCEhr1iMwvefhY6BB2bVUCPlZqOHSNJCMMazNO2WskFH8/ZFo+/+aAXIrWcvKNjla/9Z/bASiWjPngyvmAM96ZIXHi7VM2YIandmbeL+B8KGnYUG0UvWAAAACYAZ67akJ/AAADAFrt1phFmERA8o6/Q2GrPrUexfJ3pRHW54TOsAAOyK2Pg+tvgs1P4Pgrt5LwBoj1lwt/7Q+2JEeI6pK1isHhpDH08u9kWB/TlzcZwGtFo7YkGrFaD95IC1V695uqxeIkuVh+nPkYu5iGMLdW9OKmmnhoYPKFyhz0bnmXDFj9HvQNZgFcISWqH6EM8FQ8/BEAAAESQZq9SeEPJlMCG//+p4QAAAMA3QDDHpXoteDWJACZkTOV7llymwHbPw24HvIu7CwrvstmyNIa+KMJIp5o8MOR1HWue8l1K/C9sxhK4iBZc1EWtRPYDL9CXXZzcttCj1OEvjUFe8I8wCMb+EaNFjZ8FZ5bzy885zEavd2XGFZLMbybwH6ZyD0y0E8Wynzp1EKAzRpxMbH9ncB+a5bmda87v76jZzcrRUqaQ5x5xe6jnAEVRITfcovlhX9CURIl5BM5HphTT5mO4Ss/zc6vlOREwRw6KORYj8fzkQepmQfmkJcj8yi7CJfqi8QuQDqztSjo14O8MbYMOUBUfSGtHEZhfcbChxNWKBTP8+ha+CAqOnh6QQAAANtBmt9J4Q8mUwURPDf//qeEAAADAjnJ81oW8HakPV3vo40VIAPPq/QmhYVxPRS38qj17vLpOQxF+SiVGe2D99nj13LmJj07809aDByNw35Zea9Siu38jKeJDPVxiZkZ5xIwxJJrm9dU7mRZjXcmmR1QOrPC/9R5nurL/E34TPCDreB1jxjILOmPl6un+1c0T/MWi0ZZY1XtYLNp92v2wrqEUrn1d8lHy3ObTPhqGzc6RUaQmgp7HWRMfVHnfUNR5yxcUkhLJpvxyNJSoYeeURlJzAO6IiLs7zF98ScAAAB/AZ7+akJ/AAADAlu2tMGVOkuC3kH5leXLS/Yna3cuP893NAA6viGwwRjKzmptH/eadEQwPMAuVsPafEMCQFOxQ8T6D/P91cI/jtexpwvlsapZAIqYbIIqmX94PCF2xfC6PueT8Nz+eOM7iHnj3iyRJqG/I6n0ZAwE2d+AEgJIwAAAANhBmuJJ4Q8mUwIZ//6eEAAAO3tw0nQqQUXofv1z1XOOABdR9wtJP2V09ye3N7EsghX8opIyjrlek9TsDuvJdX2Gx9g891FZHwOr1VAjG7M10rY8F+r2YW7dF6UjeaFBGBQyfNZZ1pL22xFYWxce4QnjZltsYW2pDh0GxvjXkPkYZiSF01HfownjGOJ+30xqPSoHRaAsfaMO03bGSmv+BJ0YARQ7nOvPb2tfukdv4107zvvO80MUm9mOE7OpDhZo+o5sV3fFO8/fuXppu55m59u3cpgfiwp4BSUAAACnQZ8ARRE8K/8AAAyToZf9HZrZKjj4tSQAarB1umMwm40JyDH7Et33czT0N3r8IQ9fmPgkfcRLltY/7JKaqYkp8sJu3YJnLtnzEZoG9dWEsibJQczZ7YnKA9IUN8SIJb7fL2cyJqU/sYB03ctThAeZ3bB0glJbxedqsy5Jy+MjlTKIZVdjY3yq7kdEgdK2fZUlTCiD9QDZOI7w17aBhkEnuOxW0hTlCYAAAACIAZ8hakJ/AAAP3s8DIhJqh0ZC8a4ysAcKZkBugAF8zpeQ7HBY6qBjufRDO2pih4TZ738UVheKsTf8+WbHTefQN7Ow82w8Ow2T4qw5vHf7h8JEvtnoOHov/F2Pi3FkMoWgX3HO6DbJaH/pWRAcWcPOXfMXa6S3sz/omq8iB+UtyR4D/mZbts2nwQAAAP5BmyVJqEFomUwIZ//+nhAAAZLdF4znyrpyAG5VRBAn1EtvLqjTxzS0ha8djHVN0mN6ekGAw05wOwBjGld7cG2fPsal2gXMpw+QU3kzdXmkPw1WOwpeSXQUSlDO76SyMIV4kqqxRsFS2G/Wk6dqdCrWhl1yBgdt9LhJlUzTDzaKnRm8ObMPEeZjAsGT9m2dNA1qh7PwT6ZQN3sE7HKR/JfsqWjfE8GBcYh2zqy3KkXkTW7/61RQILkumjcBpcDLonfMAGq/sBylQUwLalTPoNlcWwjsk21eYJqNjrgH0pVncHbZcBaX9OWHmF39PvgKONEBxRwBGcYiT2rxVHgScAAAAKtBn0NFESwr/wAAVCv+bTXD8CveAE1dva0s3D/9zCIt8ZbTwB/4dNDbee5cLn4fg6dFP9wIJwVKS8NZzxAEg4DNkVY75mB9RuA7kqWTjjlp/azsm/LCzBLmKswhg3kbOOOg2cRi3Sa0T0eJavACr1KWhr6codPrz3RpyJ7+8JDh4i+EcpfrWfafYkMRnrc8082WnJLm4POV6Ago9/xVRVAX3ro45I9so0Z3n28AAACVAZ9kakJ/AABsHjOvTa5XDuXAA7Q4dESe8oJ1uDlzkR8Tj9+EWt491fKhaJCqfsEVsNS0WP32hp9vRMtAz7G9oaaWfMTCEvJDWW+W5OF/DGKHyb8c0RY9jREG9LV4o42ivA9cd3GkclqipqRYp6UiLZzOvC+MK2zK77f+Ujy//283SvxbYmWnzKQ78W1MMOSNemjjdMEAAADSQZtmSahBbJlMCGf//p4QAAGd4Tnt8RNuWEm94AIfpcLSSGtd8V/UH5zemko6HT6HUs8JkeTzvDaVfdgmMplrexqqs7KnSZCtPPH0/swSe8jVKOKB59TgpoYZC6/Ok4Ddh7/hwjRMzAnmQiqlu7tLm1BqhuPksi0JNiKLZ0cGSpjDhI5oVOniapVp8GyBFzWLPlH/wrHjhbi2fxC82hUozDwi+ZeARUEsEwPvar2RtrE6IPY1K030N0aZ8HdZBR2PUAL8/RvapdR+1q20ac2HiAYFAAABCUGbiEnhClJlMFFSwz/+nhAABBRCJ7IlJvZ0xcaAFk/atyf+uyyKbsHn8vOFq3bhK5MYXkLSzKEHQqJNqujizFSm9nN2RnNttFlkGZG//ehHsPWrOeq1ctiKVXuL63OmTvKmLV1T2mM1DMIvUZRMpCd79Dlrt5hcVKZwzL0A9gHEu7iQVaD2Ra3aIhAxXWN49M/62Oy5SLPK9qnh7knHUfdDKpHxX66qbsB4R5iFHBM4jQmjq6BGoTydjcomQMDvqHhW8X6OIrn8z7fkCrKdnVmUlysmRrqzLh5ZLADhMrv6N+V4R/ydfeT9l522kNBQktRW1kRT/NVQtCJf1lysK/0TXQ/BreSAEfEAAAB+AZ+nakJ/AAEd21oSjbpnQ2oUgAOfm/SUdYB8kB1+qdcwCqWoIsjGPtrFGDK4WJjA8VDr0008UuFf2SQWfPcB+7IwJ7QHqHGidHMcRkYTjRzs1B951qkkJVXV6IT7YqFczQXRBE4tLXkeTrD1JbxfzZAhIDUcboM8Br4Bv5+CAAAArkGbqUnhDomUwIb//qeEAAENHfhlmQSanv9AAdo5ncb9W7vbzqpbd9CWR4SaZ6uONiIDN8Xuu0R0ZvZeuxdSVtEWW6VIVhsLmNtiCeQdZb4tK8VHFEn7VmETJmcn0JhWoAEZ8smnHbbmc8n+Na/HvZit/l9BwdAhtIJMYy5FAPOZe1pGHxRtSTuPRV7ZfP+dT3Jxz0ClZCz9tuOq/3rlMahZ+MPRQG07Cp6ehgAMqAAAAPdBm8xJ4Q8mUwIb//6nhAACxnjqkwgijWqQA0S8+9sw9BVJwjHOZshWsZCJ4W7DrSEZxZfuoLP2P9P88cwlTNEa+0Yc4g4qJouItrHt/MiElBjd1T3Ez9/efxSUooiC3/CVnoAmQHe6+pOneQhaI9RXrtgPQI4ej4dE8E1+VdpdB7/lcH+1CYneEZDnYo4kchdCSOvFjMjcVxiD6gczF9P4hkpzVCIUIWucDPpCnB8FdTLHHDVg3S3DZ73KHJq4kHzXfX+N80SQF4He6I0mjp29b9wDzL8nb+ZO23t+d3pxMUrP4uhgYoKXrnQ31R8QxPB5z3ECAAVNAAAAnUGf6kURPCv/AAI7ruacPHo0oP6BsEfsjuaACpPOkVre1LA+dUNnzbqeDYB8AXl222qUnp6F8qKFm9sUUS73g6Y7yRI1xMQT2E0LZQhnNnlN45qMC5W2NO9qKo9iKghIOszTsKfGiX6j4yFGi2i1H+L0YBHIHrFfEpgR9Xu0Zrow3ot9Ms7PVmmtfMoPjcf2U7DpASjYEsausch8qlAAAACGAZ4LakJ/AALohTMPAbKyEDfgR+kz8jZ5eVNkAwgrzBBzQAcpz0RKROneZ2sUd35wZe+3AmCvNFVf8UStqhxTrCKcKTKQqMDWrr0ZmmW8s6ucV/EY54eqyptODe//PzezSXvkClR45QDniIhWgvpd2QpjEvn4iCvMKUWYzimAGd4XLiyuatoAAADNQZoQSahBaJlMCGf//p4QAArHe2wd2ek8h4ffYAEN84LSP/TSBaA3k613A8lBWfk2cP/Uv7h+cClK/L914aKVZFxNYd0E1VylNObdWLGfWKq+gf81P1uYzp/ZIWeoEcIS0WKUAlJwt7GNcDqgV7rmNoRbpqi7+kIkR/fb2S3nDkeYPctNjggitDATDKsj4cT1157UHx6CLp4cCRMCbjTFMRn8HNumU5iFhu/otfPc4M5c7kEJeU3gs71nLLJYCe8/jS31DSetFDP+hgAE3QAAAKZBni5FESwr/wACOxmpGW74f/x4IrwAL11R2IY+Y52AvIKt63Frz6u8Va57f4VhbDBAQLlTDQ6syW9WKlEkrU1fRTaXnep2NEDgFt+bv5uz+YQTqfIhYQir5LSJfL74A8AjLSmkOiBt2M7IQO9iJ9xN4rDDVhpeCEe60D5lEkGqzGTnJEeSLUJCFLQbbhTVMkSSSiYfY5rvrcrM5yBpEx/GU9Ya/PpxAAAAhgGeTXRCfwAC6RWRhpN6kb4AHWDiUrjd+b7WqeFrkkzVWaByevh/+H0dX6azniZFy4Thp9ITovvI7X7HgV+uCgUkS0Ggzdg8u9NDSzMVk3472MLduuzKgLsU3dhElLEk98gVXoVx9PCO2NIhOv2zz80D8tqc2o2Stsk5U08a1CSK0LPg3FFBAAAAQwGeT2pCfwAC1qMT6GwAO0OHREnoF2Fw50wxdSLCIP93KKU+HGnsKWkUS2vszi98CZkE9hP1rJPxAWbryOHIdjXzcqAAAACiQZpTSahBbJlMCGf//p4QAArXMuj0S/LNS7/2wjRUAGKFrfi+j8tv2vzJHXlQTRBc9sD02xXZ6sThckorPEqIjgnzJf0cc6h7XfLyceOdrNiRUOoX/u/uL9G0xKJPS9B3p10o0lRdJrgOInpBMbCZG3SlSm9o90ETwjNBUQPHKmfstlNZspI5dKwnE/vIbVB9OX4cxDiWOnh3AG+REqC2AAF3AAAAn0GecUUVLCv/AAI76rEDPWTmgAOff9E4SdSF4po5ai00ayW6bS1nPwmq6y3kn89m3e+uqKRim8NtfeERQELMwIRYSbCn0C2v5sf64MFSj3l77lVuIXJaCxWkvv78h+/Opjdr6zfal/Kd4EkprzXCc910+/CdQKH+/iox8qpC++A2dkB4vSBD7WZ3FyNgqQreAEEmHZghHyAQDjkxtjz+0QAAAHUBnpJqQn8AAulRwEtXgBblB7mKWZZYFpT9JLf0LG6YiQyJMU7bq5Ci08YbITwjefDaF5d0BRB/NxnDQdo8n5MK4ttMnOMwR3pKDZjsE+WM9ko7VtjX+2fxZ8i/Vq1b97Jv2j3Bn/S250VmWktqxdHlNedAP8AAAADjQZqUSahBbJlMCGf//p4QAAQWjJ0JICrfnuIgxoAQLq0lLRtjilmyhoFuP3dOKrtrAkFcD/mlSy1lxn7i4F0HOatFwyAw2nZtd/uVN1HCgTFjL0ZVpOVscErDeZzzIPXo0C0hYQwb7UC6ajDsFoVq3zYZ9fa1/jjcBsQBdjn3uQGRjKvBtG3Ak/2lxUdOsqfBJ6y4FanUNwBeRZz1QU74TWBI0i3X9vpoamu902DmkSlKD3aT7Avc37sTqhsh/d5pUgm/u6CF80sa9to/i4Cvv1moIDyQwhpqqI2QN/LQ42QAAfMAAAEXQZq2SeEKUmUwUVLDP/6eEAAEG+LEwbIR/4BF7ID+jTzuzgAHTriircmdJticIm4i+848j58MbMbXu5p5UAa8UWJfy63LOpFDfb7jjUvqTBWhqueDcd2P0ZzcFWb+F0298LxfVwwTl/r8JDgIrUQdGzdIUamUhsMuV24CwyNZlO8OGmR2gzWwjwRtoTnjq97ywybG6s55cUvi60jTc8oeGYOWMI1fTdXzrYnbVTHkcubfGvIkDSE4MOXz6D4K8d+1abCQ2SBS3uLo4+YU0Z+JOp3Ui8RbVfxt0LcgI+IjuLJDCHbub6XnDdDwybXNgaClKsYPPyAF35udCw9KVHmvZHEqzH57tsQKs7vVzZarIYBzFIFfoAOrAAAAhgGe1WpCfwABHYjESnIawB+I8dtV8jca7WOJ0ADtDo8TOtKv7My/FBWPwSrVMdfTWWnpI5SGoGekxvXJ0OBv6JWtNFY+FseCeQhu+/61HuZmMfnIR5iGVKhlMv6J8gqsbo7k9TWnLyMLQT5y1xtTbug6nm22plMJ/91BvqnKeQxHQ+qDPZ5eAAAA60Ga10nhDomUwIZ//p4QAAGT9jwdK4+JyuFm7nwAVE7NPlMYqFXVMJY4YejYg9D+RWLVlDMYgNxOg5i9GV3jhan8DJLP28XhmT/0T9BLlf2vegXADYNkNBpZl7YRARFxTYVk+Me0iGCouFxla+vfoJdSMglV/mP3FDI6IYTh5WT5dx1QpiqWhz0+d6KO8vkYhLM8ZbGpJH7YpwJLs34OqZ/qqbs38+dTiTFxW7+wqUMcADEgVwS+hbNukgxkl2OuNZ36BzzbBvS/8MNc62UprYkZy87B+DL1ejvyhtuOt0IELKBRJ8iaD8jWAR8AAADfQZr5SeEPJlMFFTwv//6MsAAAnPxOTnZK2hz22GUesmDZwHEJs32QdEorF7Z4naABz/DH2WwV4vl/7INutLLvSz/VLNiZJBA8Adutpw4wvSOuUFwJv7g+T6ToJu3/EOJ04trye7pN8YWTzuHvLGaDDNMhTUTI+2qYX1r/eyT0r2JzFkwBBNyQw3/aY6k/yTVpGbLy9OKasCVUGD6CRWgysu+IImNTNjcEiVz0QtC34D9QEVYpvRrEidlcPOGg1SvVXxC4og+4RyyBbU74K3cXDpfHfnhFKOb0itnDziYBFwAAAKsBnxhqQn8AACoMmIk+G+zsm7eBn8e2vp+5lxoxkADnuYzH3I5iC8p7yukU13Ueq9bwzkVDzHyOpgq4Xpv6fqyb4sfVKlEq7m35cK55roZlclRMgOogCmGvViqnUywBKv9gcJUec9ZzTFp8WFcD6xbrkHKkcx1SSxY6cekq8bcSzhTjsC3WrF8noFT1427HRwDG7Z9fC54TFgt1qpN3w92Bs3HdYQ54x4dwFTAAAAC9QZsaSeEPJlMCF//+jLAAABdqnemTOiABLVOr3hTcPzp7UHT5Ni9cNcvo96Tb4rqhV506rece84rm4dQvbeOh0giGh2jnDbF0+B9HSJIyYGsx5c7ZQcDH5oQGgQe4vG5IrY1/Cn68DW/dl/h1yG0t4KnNQWgQ4I+Lv48sxyGNaqNKfPmlZxj9vM+pupVftUd+80j5msKGjI9nuFBZExV7SfNkGIX//ZfiDuvbDXTM1g0hs0P8LTk6+Tr/QDehAAAA0kGbO0nhDyZTAhf//oywAAAXj3NB3V8XIxZwATrP6MuTpzz9uOfHX6Cp0XHx2GVZy540yyv3kDZetiL/dYBTLHFzAYzBZ3P4Mv9x+0Eq7XLBWQqe23NWuQc4loLzn845ncr2d69wxXERf9UrdB2QvZrFk8IjAiGLG757ARhWuttV7M+DfK0HfE5ReN1PuiJMDU5UTYTdeqKLXOIJ7utZB7W879DkpNN/bWmmrLelg/CVUeJR++0uTP++fI5EPivCSiJ1llbAQ31VvuumOwNn5z9DagAAAPZBm1xJ4Q8mUwIX//6MsAAACM/E54KsCjwBYdDsqJG6UfCoUXkdY5du8FQOctf2Kyuih+sx3oo2Qyuvt+9bgezkGtPSL02GnYW9LHO0PfNi54k3sqMvPJCopmKGI0cMznbklZ4KE8DSv+9DYGqEW3HtkPLfusRWuXwS5gMJsuMYMVqXwqjJLR5NUDJHQd+MqVGWDwdmpqV99jjXaB2H3r1VfeaOpk8Hj29hcOLF4r17DQ1lh8B7++jACzqvtxHGyYJN3VSVvcymIWBRJpLNtj25Pn3IwSqZ85NHx7zmyEHxzHILY/WARseH0I3rdBhGB5fSY5GYKaEAAADkQZt9SeEPJlMCF//+jLAAAAMDae94CFdfAzfQA4xhQmXiIzCLTajJW0RLuVepdMoLbi8KPiyAo0FgYGi7T9IPQ9vbPsaAIFO3kIOmDIihsFASrxxvb1XlR1rITc5jzYtmm/W7eCWrWWk3jafGGc/px+k/vtZcvmkMUjf1kSRTG9xvGnbRV8Km2sPrM24rl10XFJkWZJOZzBcg14lRyPyhTSIQwiNIqFqzcnu4p7JGxESTPq+/Ta8e5cNiGaeHkvgh8ecgcHOH1tWqpzbhv71qnuWhwYaCalsLKbZkx1t+SWqzQY6ZAAAA90GbnknhDyZTAhn//p4QAAADAVH3fvv9ho8TMH/p7Y/hWM55Dn+XgEukAwA8XNzfSNn0iLrx3d9Hf2g8VG66OsZkw+HDl6GKVYNHdU2TV0+qAQTaV7dETMd4YqqKEKgFfq3qr+QIbGfL2+j8ZQyEJ4X7k2JLnDIGge5Bl+wod+3rnqi3MyRFSNvKCQpwoAf116Vonw9UpuZGz4GmT/I6Bh2RlQ9xxmYUpk/D8CMw7sohu3lORWYgw8b+1EdyMqC00H+6cRG5DHVWJWah2CxAfTh5CNyP4pAC+2BUf9bzbjrV4/7Jaj2QicQj8gpBL/4AUbrfaIlmlZ8AAADIQZu/SeEPJlMCGf/+nhAAAAMAMT7Hc6aINumosMzVpX1LQAF1l76vzIxIr4lReXlrGQ2jumHAkuS5C3MsDiJTB5k7UQLlaRPmIJ8miOCVpAii251ELCbA4sTDRNL3zEoRR/TAOPHDec7WJUHfN6en2MwZPc2YchXWAjkQsgeY//A611kbxcupxwqHW+ClwpMP7f+C7rh4XM6/Rftvz0PwlfCoV72ZoPdDAqISFF6cbhnwepdaqHQAOH7Mi8GOnNgFc0EIpsroHYAAAADaQZvASeEPJlMCGf/+nhAAAAMAEu+LEwbI5/3vuRw9ve7P2KWgAROsRXL8cNP6AI91dF9jnCGOXM7VIbn0NFpFe1qZuX2EkgZYRexEVcFUG38eM2FZBNyYlEGBteumUtcQkc7YkxsVJBC1DjsKhdwTyb+gThwnZyVeQLW2MWumsWS08fcJNt7w7dPeJlkA+dAfnAvfWrFHgvQ5i/DWBeYVSOtUHK67khZMMpAuC+XokqxjOqrIij0StdTvKVVCj2h5qzXmzBUnlsWyYn2j14ufPLGZ1UMhE2MukZEAAAEJQZvhSeEPJlMCG//+p4QAAAMAAdzhPM1gnjDZ5uZFrgAS1clO2/GQgzjQKW2xCdIm4DjpEcvZN1YfiqtoyTTJGxEhtYfT4fegKgj0TE4By7zVJbaY54tB0gVn73F9+m6zfgIkgihCB+NQL986UsygxOlpDoXX4R4D2Xr2wA+xQOiAVXy6kJCUZRfeLTPDH2RzGLRgG2y0t6OP/iMb0uthfq8ZYIG4yyKN6+mKy53gPxLQZOZWIvSr425/PIXFjicakIL/1c6kXivqbbNEk58JHHXlFOw+pg/WFqJog7gusNFAF+GyLn8nma5Qf+BAnqPqXRfHjDJpwStwuDNhSgV3dR6Qi+Lf5K9Z6AAAARRBmgVJ4Q8mUwIZ//6eEAAAAwAC6+79b6YS1TLLsAIfH5fzeNf2KjGrEK8tjC2eFf+8AG1KBZ6Kh4ZYrt8lKPZhVaunijdzldFbLpyqrYAeHUPgOTMHy/vYWQMaShh/PdWwuGsOcN/Eqe6czeGhdMT4Ui6yaapZBbekThtV+evx4Y+q+R3c8CEcdswV/uJUztYGgJo3L4XRmatyr0Uz/8HxrVt1oQffDzMlOCBHhrrZe5yZAi1d4NnUONQdLm8WAGq7pKgHstVLNO828KqXCMkjSugiK+1Y0OI4vXBPw/nX4fq6RPvVL5DuqQzWbtKLf3jaR//Syfow50f99t/NqGIRpRiTpikcE6wCImLfFouEoQS0daEAAAExQZ4jRRE8K/8AAAMAAZKwzTaG79RXJhrKdLWBw1WAIleyJvhLJl3LlqFk8fLxHYzwS0FhQ8RfjRqF2LdXe7/De7cY3G5tSQGXnZKqv6zbZqjRBRpVCN36HvBuftAQYcQTucuoJUA3oj1g/521+TNRJncphu2WPY0/L+wR8isCMwtq5U4n8ZhZmCWtSPYSSUa7tOq/AK2jDeYTpf8E/YoLvoYd0bo7OkJQnbJzUwPNBW0BheGvjzgKt1Fe0R6s42TWdEzEXn/GPoLyKzlRH0td00Zc8hhHxP1kAYSsiLUE+IEhQchuxr8dZN7BXcVG6J//7NALxD6C+UXmv0oFbzK5D/WP2LKarJfWjQFP1Kh7sq0zpoUz7yg+Kh4PbMg7OHCayr8KhSIhaP0VEFeHzVYFnpgAAADeAZ5CdEJ/AAADAADI+QK0m3m8A0hPS4AJ1H2XxoVrdHX/npfW4aC18fxGPevTNArEzx69EjN99YMjcaYIu2nD1SSpLfk1gJF4seENUCN0ptTxBn/yhacwc8Xex487bnOO1MZBRoa2K8XKbm9tYVQkFQgMuFLkMPLAUNJ0Qr7+3GIoFo2zHCMdhkzrTlJlmfmVBR1YeW2MP0AdYTJDkEhG7PnCdSCf4YYkg7OhkFYbaewu/qSgio0ESf0ljTrtpJOa4KW+j+pmYTHMKiubfQtrW30Wj4iqsUhmyeqCIaBZAAAAzwGeRGpCfwAAAwAAVC3Vs5+2lyxHh3gA2o6nhIrT2fyUTuHM0r7d5+ByNXTJSKOXajp3XB4JxnN2vTCkrqeX/bQOefgq+VwLIceBV/ztYwwH+SJGMxAuAUpsU7uTq7TO57Uyd/ST3qq2jjnLEjS9PLB2MdWt/K6jjHq2kq4vm+y37+i4ZGN9C+ygrkh2fB05h80q7wYFnhIpEnCOutuz1XkEqMppaVyQHiBJ1XK5oJOmd8kUJY3gI0otoTmK9dzuqwT+yBUiJxYPuGU/3RlUcQAAAWRBmkdJqEFomUwU8L/+jLAAAAMAA2mtPgafoARkeuEyXr/2q6RxzuV8I/aNP7zwXBgAzuwZcqfFvw/9oPumrnTbZk9PwN55VpIgC1q47ahf2DL5iKRf+9sc9Cgevqp42JyW2vgZgFSGG5mtjOHxfVs0ttbbzs0rujKtLRbsKA+B+qbjOuEAM/HwszJ2Ml95rFpzFsUvTzaQLdYcHzD+APd6318s3A3abnXnbEKgRH4aIz3iTZ4YzLTqfohxA9J5k3GMEUYHqjaWbvkyAMODnel0EyxFd9ByLl2+qcX/hVwsw2F61Kf48s7WqqxumFdovAvhmouqTpG/5N4haYQYI5KkKut6Mmv8pNLGzX3Sv/EkEdbpJCVUfdO42YbvVSASqabnVbSTqPajX+MgwakRxHEnE4N0P9LTb5Yd7pPttnV3FnA5p33CCRVi+iecQYOgthkBpSpI27AoChhMvmfBIleSOPJfgQAAAOwBnmZqQn8AAAMAAmsXLBj8EyZXYKS9J7QAHPzdlLKcL0mLPjt7MZJq1EVjncO5ZtMLnLrKRBF9SMm56zAexMieoruUFYX6Sy9viXGriw9Xb0t1dsRpIDaUgQWAfPL6ke+Q7FeTNJBKvBe0dDowHpBP5znMCEcEBjmjb5AjDYFbGYK2N78QnNK8gDT/D73yxitsXM/9Tt/X25IkKiCGk0T5t/jIJ4RBsanx/fY/VrFMgwgw6zoiVden2PH68FOodyxxYQknanEuyFhopN30vAcNlTFcFQlr/AOMEACOWG9jOBMj1HWbDUv5S6HrYQAAAUxBmmhJ4QpSZTAhf/6MsAAAAwADeAwaVWiM/A62AKerABeTstThux6AHHuafhgN7x2mT2cGsdiS0/FQMU326TeFRMvLkkS7VxZbJ6415l3BcBpnSe1QjDWobzWA4sucpxwTmQjRPi/sh9PoXVob/J8lXpGbNv03nBFkvAZVhxtX3cSOaQMP1mdhe4KXqE3/nTv6uyjzxStLV5YosXv4ifIISgftphTlkwnTxbL+SKWO9XvrRKpoFIjKy77pwSpQNVKrvEsGtmquPn6KD/JkeJRdvyfTkrizw0ZrXTpTI3OzpYG8w/3kajatRqiDy2yZ8qI3x+EWyJkX/j/NSLxHtPQiSJrZTiyiOQwsK3JEtG+xehcf1tQEaOa89YKofor27tGduqTaGshpRW3tGXdH8anhbE0Mzb94uC9l2UIhblGmLNGInlLbnTuo4OUVSwAAAQ5BmolJ4Q6JlMCF//6MsAAAAwAJflAVyuNn6g+V9oKAQAOtA5JJ+eJ8xkvgjp86gKsGVmjbxBJpBpdgZ2y4nxiVC81HCmjtLNpHAp65l5lRrKIhvq8TEyxzc2DHuKXrkU2HwnAn2t6EYTDSo47TDLveJx+qTPNWzSJpuHFtLD5XSturSGrcaiEFyLXlw8xazf4lCrWeYH3p/myIiLbjn95EHlvJdQ5MoH6R5N5hzU08vuIvNXwiYhv7thOgHpd4tkAjISAxfd8zddxzWlWKQMFHFkwJfjW2Lk/ufw7qDKBpM4cGyfH299JycRoqTSITaHT6siB2HhBRw62OGntHJRBtNTkzmZ1vOzzqyS7/V3wAAAEcQZqqSeEPJlMCF//+jLAAAAMARAHCS6wWVPWTn0AC11pUKf0oGXDDCe8FqeLV3hpJ1nSlxQ7ofNv+mnxRRLRuTbIwM9mDOhBRh6Rm43u65/xf+VSMQqeBspWtQd4mfKgGHKl0DvVJCC+El2HAqGWD6CFrZ2E5vFk5QlIsPy+nn3YwHz+b8/HGvdx6a8RXxF7jlEdbfy9tsRetsrJXrk0bVE+D/sL+fs7UQG3pwY/prBod5OIsRoSt7lhDxJx07LpoUeTyr4Kbn+/KObG/7S3O3nh6W9ojr4NSWFb2WFoGK3MvvvXd4j5X+A4txGt8Q+ioZUcTCwRFGC4T6HpAzEIFPEZKvtvktDMlekbVr5RePZVwHOWENB6kpCePd+EAAAEiQZrLSeEPJlMCF//+jLAAAAMAuzMo8ZVnsYgAP1qjZ/mNx2uwdu9MQvML9JuW20t1bjtyN5pqpEYGU3CSK9VPNV9bEecugL0MO7+lB3DsODqXCVV2C0pclv9acrRiA5hxVlgOixTLKntJyuER0u8HLaW1TDwtY5ZUkhtlLdzZM8+/c2EYz+QkdPOttM01nvai3yp7pmdlC8yJmcAAC0XMAlP6s+6nE7Lrbh3rDcSF5nz4TzwhqEBc1gApLhZCI1/cnI8ruJoS+UaxMjLKRbt96UiQP+9Q/tPkj9LTo1dR9E/EpB043j2uPw7s7QQ379M0p45uPC7KyqTfKSuk4D71hAidvQq/txmcEDhn0C2b79L9w7/qs3+Zw1+1+fwtS52tXZYAAAEAQZrsSeEPJlMCF//+jLAAAAMB8qA01avFRUS9qWYAHWgZtQDwd4p+tM4Q4NanPLNXN9Ez19Obs3FCkmqD3StPC6CtYJswfMOApvl2cL09v9JUxIR/VjffLvaEqsf48oellZtcce5ZvDhmOYdz87i5LIEPxD00LbSHI/Wc8H6EDivEovXbQP3nrSfyL0UaIeORAYor0inCpc9K6p96YfqLj3Kk3WPZn6bZb0JnO1pwRnXTADlw37Qd8Ygy8HTlm0e++opbpPyQFMp4Jgrc8VBy1JMeOrA/JUrpEALTB4cpL71DAmC8odhVIVm0ez1e2Uf/+SEJXC2dYVQe44mvtYprKAAAAPJBmw1J4Q8mUwIX//6MsAAADjc0ykTVFgAiD1KEydjoPC7l749Ubjnj8dYieYeTDgK4jGL72ELLY2y8g5Q3M6xxxf0aaAWFcel6t/8CPNGAKONT17LGzSB1H5E11jVZ5lQSqhYuLyboa4yeEPprRqaYmsbknKakixjfMQrstDbHqLSmrTD3uaOld0L9mQi2BVvsfDGNIZHKoXNqcSH0Tczk4clcZSmorJDrtY1Ddd8gHNSWS1dR45absbC2cfwN/rYzvc/PYxE5N9ynQTx/6eb1ZCL4qc0AGeQxEU5e7fzj1ec2rh3Wn1+MqJNG7QB/rhgzIQAAANxBmy5J4Q8mUwIX//6MsAAAKBjMgAWz1JsjbfGZoPG5ppKO1OhbWD/CDkYS9iaHI/V1SI/zkMDuWJq1zEYXrqBaNIMtdUFAa7IdbyrZ+0VlUgWq4tPQhPm4LBRp4SdiOV7K/rQw4C9BPyAQDkfNl0EoSzDsbau+8zeEdoXIe9ANdK53wNMX74PndbOcv/o6FYgDZhtPmR5k5ma8WBAu7hgO4HbsOHd/9357V1WxenUcJm8a77+JmBJMJhjxELrT3Wbe0HTFJPc76lv+Pq8ZW/wQoRF1Ubxc9REKR5MrAAABUEGbUknhDyZTAhX//jhAAB8tVQHdGMizgA/udCpvFwTTu8M+43DuSwnhhj+IQrcxD2x2pGuPxhwVI3T8W6EyvV/3oPNoEnaeSudUUoymi6/qrP82qCTvf/NuKkENsJHevxFuf91lLhVcU20a2oj9Nvye7VYB9v7oXU6kgEB6w5XfsX36opjOx8Z4a2OgmiYPY19GJzBhPLNvEesVzpMzgfFeOYZQLMrK8PGXiBvIpV1FdMKLsv9bO2ZhplzJH89HITHbSSKa1PponB8+eDcoVyTI3Ndo5msV5bfMWwFHqoncbWz6OkcivS+rX8zXM1T/k2aUnrnSaYKoP0Bb31m3AWlF2xSVZ3aD3TuH5BsttBll0Y5joG+3N+l9aIr9ovJzQI8Y0FhrOIJUISyw3pQimkQsdfa6bD6sAT0UhSFJe01Czs/5H7sUSdioJcGdJKB/gQAAAOhBn3BFETwr/wABsH+UkxRAtFXyWTCAD9hrAzzuMNDfM1qILiEh/IFsOnuR5/tNASdiZxGxycnDMn/jHIAk6/k8S8zwx+pwxV2stUxQ/u+ZzdTudRfoMMbx2WMEX7A9zGtn/B3lWkXI7QGNu4fx2YFaYUQTIlUgCFS5bq4yfaOXAjj1GpIjT+sFXfGy8nHHXlVzdpLgrQIFrSzBKYBtuwnQQD4gJh3mJtGit7e2Te+NiwWWojdc2dJI9fszgahTRd20eJ5J7sFbfatkrgAEifmvM3USnRPW0bQeJbroHyDys/DHUdrNguZiAAAAmQGfj3RCfwAAzkvxpK2L+h//dkcABbIAdEC4MT6wMQOqChx/p1FNc5Ll+/OarK0dER3sZmWXodr3W5eTK+voAYdPluNZOcihujStuwi6apRmYRS4R/m7ZaqpVmFumP7P9ZrzJVXBDPpNYYi3uoFsC0YTi1m0C/YDKZmALWTlX9bss3zDXPNe+TrDeFSMUD/DDeyAt8iEUdnvWAAAAI0Bn5FqQn8AAinVyi1VJ9QA3YkjretdCdL13AA/5sqL3/6Sqvv+IRsvZKvv3jumZjJCQ/MGYPg/GVlxQmFxSHiMSuKSrcqmK22XFV2WIS0StyRbrzheGvDknviVfPbyzcyVvoDFeDI1awNUkpZDBctonuqw+vekJCn+P4sOIqVQxIia5VS0uaxgABEl/TEAAAD1QZuVSahBaJlMCE///fEAAE1/UbQNyBoALoK36wF6tlvSwPG9yRbtkATAvn1+AxmSDmaPDV4taq2SCQF08GwBvuIVbQtE9kBwhqRS/OZa4K2mxnQFuzbGmSqrq8NgPSvWk+y5g9c5+jmhxxdFI0z987fZGj44yYgfDmTnFUMovDBbGj+b1km0VWJ9Vv0D93Z4oMM4bXaa83jz12wzQwaz4qn7rLfaPQ0yUB+3dDGDu2klHofzI9EoL3BnvZv/VGsi4EvAslZUCoiYw2J0O9tYwuWztO2uusA/UCs0YCXwjOy77qVSEL3CPeXRiyEeWCu7y44L4UkAAACbQZ+zRREsK/8AAaq10Nnq0GRleu8T68QgAL37fgV12k39mRFgWRSR+lnXglIWPCYFoqPf8fL9m+PlezvITehrlsOyzH5hsoaaWiFmA7atwtgOeF67jf+VYejzttF9upt1QdNySF0lZaAqKznXl+8qgSwEMRPeFnne2p3+76gXJ7PY+660p6U0+OnvZo0Aen76hUNZIJi4ozni7nQAAACCAZ/UakJ/AAIqO+PySgD/MABdXJLZiNk6PW+T5AcSkYrAAhkVnDmhbBilBB7QUNy4pzrjijeBBD0d8kv+pzjlKzdMfqMnvN39U/T5zCmO5STzg4Bjrfaq2L11G29PUSU5ebrVbVWVnmlj2J6e4HtoAj7HdFEfb3btWTKBgjeGSkyVIQAAALpBm9ZJqEFsmUwIT//98QAATbon4QQaB0etQBWfLj0OcGGyDXvrb4HVnxx0zQ6nZzSbzRgKWykGZLtQ3jmwx7vnTLP3eGqOG9kxnvnDn2CidFueuc+TfyNEkWahhw4KtHffVmjUunCINFEVKWBDLiij5oRUfCvoKPkpQoFlQFCCb/QPz3VXkYEKwSxQdHm/+b8M8DsahRz0xjFHFISQniosVE7g/tkuLMKuan38x3C2f2sndYmrg2QAGXAAAAC4QZv3SeEKUmUwIT/98QAAS7om28fB+be9bqzQAcWdPETtSbXkxlf17aS9IRMJfU2UzC+q47qOVy5Ioj95/dLOlHM+8voHGN+t57ggQC7lstLjFPC8T/JxX/HX0z/ANG8DCqquxqt65wKKlJiL77+mD1NiiCPITEggdaGKuuFB+wxqok/ASPg/kwLD1CsesKzrpTC8l8B1TGCYFKGlz4fK9Nu8K8DYVmtJv1LgsujZ+bbDb9uygQAJuQAAAPdBmhhJ4Q6JlMCFf/44QAAL/v/7G3/1pFqjMnQ7jw7sb+VIASyVA10voCI0xoFY8Bw5G6dlObrFtSQFwyDSzWqpahesvl/o3fgq8zXjewHhES3uQBM6OAYhBPBILinurtvom3QnT5ycVtYAV0Eufm+DWp1n55KdFAb5UEqPKH8MZC5DHuPlKYIlLoaD4gbAu3iUz0usrEquLD3Ln20tMYJAtDPySI+Nm1kqDb7FuX2JTJIrIr+f6BBG99MMkJYhGGDG1zSOw1vM37AEjbK6fWqj+iJHSrfORq20pAIzTAY2Erkh2f7ER3H4xbrEyAxXCaSNofVuAC7hAAAA80GaOknhDyZTBRE8K//+OEAAC68n2Xj9hdMjzyXm5gChV7HbHg7i9J/LDlyc979N0DjEKy8exQB9UvF+M9BMMxnsjkaYGeMFmiNdNeqr6u4qGseuYNhLPYEd5iOX1G1N3j1skVjakg3hA/rmg+8A3ma39gYkj2/VX0wN8bgnxqaRRmE2A2myTDAm+9pneZps4Uf5aQUYPU6R6StvCxgCg1wlWTUr0wFiJDbcnQdUW53avi65cGDYEtDA3TYgWF5N+lk7wDqT7XNInRE+wsBsruKOymmFRXG00s2TxwFmG4kYIY6X0i/rWKyM0XOXPo4k2gDPgAAAAJQBnllqQn8AAM4Jkia+ufGgGhXJm+IjqaJgAHY/GZl4zu6nGShyu1KrqzJA/VOQsZIkxGO4ImdgJlVhAlNNIFcVAiIbauzUxYTtxdRzJwuu+qkD/ckVH5UWBky9hshYc+w7bGUDE9sCN9+ZOiL5zBCCvYRwnxwBiZXJDnNOiic7cpENu3k0fsGR5dQ3V8GTFF3mhgYJAAAA5UGaXEnhDyZTBTwv//6MsAABIficnOuBtXwGR1YJEVmemA6pcJl7JSz42VRoHSxzuGFkn/ioCqfvgSQ+Xor5hBn6T5uFlhT7RJGpFVzo7Wj4uFPA4G/Zuhg6Kg71tHuEk20SrFQdw61utH6bdPxHPBv5V70c/1h898XgkBj6yp8kZUFWamLlhwBSsl+8XoJ8eQft6laVcqCh5Jk5ZihYOrJ8Oca2MBAvidZ6ByNU22jJAo9IR6NIWALyKFvnBfFtAQAH+Jvm54yqmDqP/JdCohFwjB4HdMq/Uxp3pE7t5Q6pPo9wBHwAAACkAZ57akJ/AABNYjDXkq/N8r7z42v0NdtGjbwQAOyKvv+nNOeta1dEfTkbzTXbEOkqucQPalt2s7gM9/2ud1IjdxCWh2emi9gck4mhaR/9scVESulmY6ov/B0MyHhmaGMZ+KWw2JfwPP5zlfgPvcIPQFpJlE8T6nm0SXXRY74v+dC7iooVkx+ldlvyp8I0FXETBmRZy4nKjlQ9C2mOM2FWO/31lxEAAADRQZp9SeEPJlMCF//+jLAAAGg9bwHvZWUVxaooiHbViUG/pKgBKlKMeuglqmqyRLH52qdt+R7lny4zFmQl5+2UiFsgaum+BJUlmynFNgAeiwbHxwQY6rMT6Jb1rLJPCh6MtXQ/msmftI0NYD3XIh64ZedDEt1KpHtnk1u0KMMo1NV5azzD9mp3gf076PFTzAwpyBD/wAwsKo3s0lj2KGA1e86ojFXgZbBnrsZVoHD9RqGchP53GVHowELOC8sYSCro9GYAdYHZJ6ehoLsuv+oQNaEAAADEQZqeSeEPJlMCF//+jLAAACc/E5Odkhyq1RRDH3nQCa+lodkx6+34JifhLZrPqjWT2qqKMHkCupbgEhAi7lqGDtkIwxkSVNbQc7wwZMCvRt+jAW1vJpb/pI+WgEqDio15gi4wt0llbyM9cL8i8fZlFCl3DD+SLCsdOfu8O6Zt8hV/mbu4/qAO2Y3N0lXX7CP2LrZ0TLzd8n1W+r4M6OxNgP8g+9GKdOgP3+XsZ3+C76kR1CeGFgXS3Y8iT1cK6hM/2JA0IAAAAKhBmr9J4Q8mUwIX//6MsAAADqet257iIrJ/5nC7itW6Xa0AJq9ShNNfNPejzNRgUGT+wNyA/FstAWqE5Bo6OdImmoA66dy62+EmtgaQXmXPuyyp8sXa1T+fR19bK3PgUep/aUnx76ShGSjkDNvtNuNPC1MZON9RaRXpdgP/WjPt1F4WiUNTxAb6I8sLong/sQxY2tB9MokPEakoRSsv37tpHBLSUbzAG/AAAADDQZrASeEPJlMCF//+jLAAAAV3mXLw3TtNMdUf28oAcp6PkccyMiPXWntgR8r+yz2yqAsoRGBPnpjh1RQj5mHtam/1vnlnX+0a6kH/4rj+f2XTb7cBQ85IgliDswl3WUYPhpVxPfYhgrlx6M1MFJ2Qtk/dtzSz/pXPWGgZZtAeh+UyYNfGROjEdh1ObllpOgGOTT3nNA2/Jnuf+Rn0kxClrHRFhBZlzrwVTXN56UKsuFPSEeleWBY0q2IWt44tbcwkIwLbAAAA40Ga4UnhDyZTAhf//oywAAADAgFfYo2fOSAO6ukHhZOkbfeATX1KEy93zhVxuc4rXpLgBCHZ+MMDcOyKZ0l3luKvzhIF7P06fyZjk6ynSjBPg48lxyXwfeit1RyXZ14W7ykkzj5TGPqFyMNZoeAkLTm1c8FzNHjJ6HpdWgTikqB5Ce1oK9gbzEEnv+nT5QzJK65qMDa3nOQIC+1+EpivSOR0RcyZNUK2CPOI9S46lNvtbZ+yTs/W5CDFenjsgvvDGIkfdHLPOsAVZXvJMHg3vI03uFuyJzCUb7g9tk+5lNwtCCZgAAAA1kGbAknhDyZTAhf//oywAAADAer3vAOsqetAbCcH7rgCweQUfwkgmjACIPUoTLHWlIrv8nkVJ0dxXHqqFz5sT8R0qqTI8mh7EANjDvAfW2s9AnBglOIi1i6VSUem/9+5TI+CEBEUiO3Y7gAmZ6jcmvlwQE8wDsvd8KkhBdct/S7KVPuBSa7WyVo6cs7ajArW4OLaF/53704pOluFthTXvnvMM89Ym2UsZd78BYbDQ79TIKGhSSmvfstL7AJ+hRlZKNg4gVFqDifi5UkWncl1fDtsf8YTQXEAAADEQZsjSeEPJlMCF//+jLAAAAMAt/uaGv5VYy2U8f5uKnszzvDtfpDIAj2TCFABCG3BVgyNwNUYFwpAc/z7CCjtcG7c9/V8DYCdALk03gMhmtDKP32Z96zqC4G1KPYsuew6YZGsqcjepIR5p/DtSKXMlgZGPI2Z8wUsAAgvzitJAAfceoTgvbVJn297zFlww9/kA/r6wDCtM0yJLBUjTnNc3ZF0rkiJuD29mpIk9eNE27emV8EqP4M//asbh5Xpl08T4Equ2gAAAQRBm0RJ4Q8mUwIX//6MsAAAAwBEficnOwzmm3DHT1rMAG1HrhMnY8Z9Ykq/o/OlGtuExu0hqPsMPpIMdOX7Gq+TQ2Tuw2XbkwMmN8B0LOBxMBmOz/QMEBACS2ZKmf3FyVBnhIe3L4hTt1h2yPpDQP0MY4+yT+NgG2hYGWmkJ4DVYiGpy+D0/zebRdlJErgqbHSq6Y7UxlkCYRGZPbcMG8KhK8uGQ4Tc/wEOEtmEy8HprZBLNM/CFDrMYZWN47aQeMjcw4Iy6s5g4bVJuQ8vcDVfxEbrLYNog07m7xQnKZBZnZF5vogJJqHI4G8gBz+iu3Szf9dA54IlytKcz6xNkehztT6j7wAAARtBm2VJ4Q8mUwIX//6MsAAAAwAZb1vAPTbMdFGunJ9gfVZqbOFQAOf4ew9PqEeJz5JlgQKSdvqA9Hc2EEej8SKn18o3kbs+TJv4mXBmN8jTP8dcWcpMwMh+9UwNsBnnQbJCr3cHxGScW1yA8LBlmy3r9MyXEwqnUOZyfehPlVrmvGqVi4MJ6UPZzy8XfJ5UUQgXuwt5g6RcJ023opOJTjFygKOgRjOZgAlgW6AyK7hRwDU6cm8xEPpzNVvR82KwHf1D5/9/r8iy482iGQDE4gH7hsn8kwYL5l3WYfg2EpyVN765TnF4p8vl1/WPaZEm04HNA/AbVnEKPCVSoAKT94pbQcXNYeAAVsbdA7VPj0uX1Zpgen8JIR8SFXftAAABD0GbhknhDyZTAhn//p4QAAADAAk3xYveSdOnjDjiF91J8ARUh/2dMoAoKz+Lz5Ir2CQAyz1HDZvtOR/7m6aakire2Gl0xQKI+uLXqKLDjyADNztp7OtZWc/MuqrucRt1k7JVicuLMY9aiY8A5t/RLph/CsTNxqdjKtycUtP0HutR3Gu7YMW3V9nX4+olMs5s42GnE4dyWszapFB/UoEBRKJ/9jV5q5JFFLL+tVC400dFFwlrSOphueiU7MtT7lpL9vD2RQATbK/urWaBYBywe5mMHTxLaiQhqFHBccgbk9lRJ5SlqoxopCJmwGOaOzEGDX8gP3gXvZ/dZl0jFu2XXzZUdaJDllxJZ+OiJN1x6cEAAAEtQZunSeEPJlMCGf/+nhAAAAMAA3fCdG5wLkoALDozHXwrrtbpt7Jf7eGeFtF/Wb5q/fFrbC88avaafDIpHuyKjdZj/TT4TIfP6Rik8yE45aaGQ7ID8Y20B3mfsjbp1ymkOUyShciBOTzAXt+jdeEr0uB2eoMzQYmmQ5sCdsi8R4Deu2Xi0C3JbnIDMrbGGe8C/Q7LiQWv0mDIugjWz8nkZHue6umiCNQrz1PoRrOQSJ7fe8CinsVlm897BvneMrqOJowrYIUHFOqjhRIfrsverMrXBX6Y/x72e9Qn4S435+eS+B8P2yBfeu2q17ZicYvpd6oYv0M1LFzNx7iSds0w0PyvgsGVurxARYk2fT3eY4CMvUEmvMFrc/duWu3n4btTPmwyOM1fLCmOlHGSfQAAAUBBm8hJ4Q8mUwIZ//6eEAAAAwADY8J0eiZ1R1xb8W8JF+cnTRMgA3oksGxY9NdGOlBpwsoHgleCsXt1w8fXBsK2ceMhTFXz45vpCLPIh0EDh1koFC9TQyLmXfqkUpPI35OX2NGHHClwjxFYa6CWCLCAbZ4EMYTMK2ULbb2cn0YhvpzcPm2cXEMkF5IMc6J1gV4tJxngHu6EmPMvy880d/DyKbYyKbXl6RWoUt+YurG2Cr4ZdF0S76D2/k2bvh5evIyfDsIsLszmy5GWsCsAc/t6h074am0fCzJT/JqwEv9MQHs4FdE4MjvggIk4cCKwi9ECOE9dWNUE1NpC2T3iK+URYiH7Z0g7ym6FcvUKwagV5ZdxMRJa40w8HkxFcGH5MYUj9d9gp0wGWXj4MF5ASIazc6O7zYitb7c55fDd5yRzvgAAAR5Bm+pJ4Q8mUwURPDP//p4QAAADAAE/936waHNdvfg8ooYAE7evBaQqVu+mgCbOTlxuojqHGH4S00FiEOW2tVCbmmd5z7FdHFfGIYfvqSjcBz73ZZhlJDMjNr5eOWQADjqDbZBskAUs55TcpNyYkwN+jsDkpmx1PlUqyKctbFKdLX6Ba3fN1AyWs0+hyZPi6OMS3Q4McScStFUJkBTOZfQGCLYn6X0olLyZGBdNbxglLY4ZxofSKQU7m67BaeHPiN4R9/GZzWl5mQyyHvmzvO5YBhUBpV5/NccYUo53fzbnjqFoIu8pO8YlQ4uwiTlCq2Fzvu+CZ1BaKVaoTZPgOUv7vbscpFhbfxvtjZVTlM04YxMmHFK+1fXzSJU29PtIAAAAwwGeCWpCfwAAAwAB9yd9sTWB3rjUyY1nygAH7qEH4rY515ZQ8iDHN4nNd93YHTrCuYFkUir7rEgVn1Zuq5Lsps6BRpE6W/BEk30rguPvV/sn3VOlI2AOi01sA+uSYV6UU5A/1srGpxApD5CR6kVIkr9Ni5rYRSpFVIR/lv6Q5zMOwt+TjfDOMV9TVrjb4EMNB7E89N+5HylrO4H0/jnX0qjw1fFKfWRl1uRuznQjcaXRuCbwzc+l1krUcm8qQ4QVFc4vOwAAAUpBmgxJ4Q8mUwU8M//+nhAAAAMAAR2SXO5NagGQAKO9eCzlrqwDuREM94XN9GUEPpffV/8u4EA2FHda1R4XhAkPwLpczUcpzMatExKUPksN7FIc52WM+LYtbfgIntdQwNWjCBSglDnYsghSTGdTqRdacQ4JNTn34Sbwx48QxBmX7kWN8WwoVNgCRFNZP/R4Y0/16QtdOG44cOa8hFgVmpv4u+RbS5isTwxlzmg0PQztLd2EY6IKrMuuBe5oe/K9vC3uJnn/GNj1LVNOH380B/HfOPc/pAhruxpYjzUEHvvweiR3MgjZ/EnaogUK6EZ0Mc/kj1qxzR9r2+0fxps4IHQLHP5wU8QVoe7KI1Sftz4JShWcrrIqX1u6opExskj7ADYak+RpmW9/BUyWQN7bYGZxUUkVyzaLq6odDkfIyUMfm3ryj/udwWjcXfgAAADqAZ4rakJ/AAADAAH3J32kPoQA42Kc/Do1/YEnijnuPMkGcTkMEkuy3j/EIs4SPIySmhD5lcDozI4R4kCpYnltitH0n+jLpqg6v3UDa3D2fqP+x+XuGu4OjFRws5wehT9G5WBnCu997jtzDdHVG09J1Y+u0Jwa23iFEIg3/qd3VG/zhKHe1s/CC99LR/T7dC6BIeOfy6JrDhXtrS4giij0RCv4D9UC9RUi9xgQ/l+PS7Ym11UT533fV8hflM7Y0BBtiVAjvwWctQ14oOgLHo1jV1xAT1kmp8fweMCGCzaqwq/TO4gNRV7/IC/oAAABakGaLknhDyZTBTwv//6MsAAAAwAHRlD+WC7+5+uTqgBCnceYxOv9evhvVtkeLiP0/UEsEswJX004xklOymO6H1MzyZ1pW/vZb0XJ+ggLn/69ILvqejj8+s29PPnVXAgqZrBBkyIhDQOYbMomncD9UxNJb0sbpqVuzuD75kLSXUeJ4NOfcDufdgxfM13Z/EfrsH28wCMmeFD9FF6W/pw5mdnms+ZBDjH4TsUXCZBxEatewXpbsTHEJKziYBJn7DQgVQinb12MC0Z0dgIr1JAzNOmLyQkD9f+BR936Cs1587lAP+DhjqXs5k+tAo4KMERtFfEntxCtG+cYvR6nuG2kTbSPj6IXA+yuWTXsjSwaeroI+o4YDuveonSGrirIJME+BvJ01i178mLuneY3p1byDoXrZB+S3bXl4WOEZB11dG/kcmtwdJTvWOm5AHCYz4gq27nQrBmw+AL71WusS0uF6bpB3c2oEEQaYMNBAAAA5AGeTWpCfwAAAwAB7CdxxXeY2G7+MTHSdzhnAgf1jl2cRAA7QmlCgvS/wG0UHKg201MlC+K8XibfPi1V5Odz0ceENkQ0162fdxxuddOzfpR3xCutXuMe7n+4PCvjCwC5pKH0Lt6pSDhC8jRdYoDO9bcwxyE/B/4mMZXTMODQzfIiVbPDsHBnGkj16zSPsRagnDYTeTT/4Srn2f44K8FehWzVvbjM3gAd2zpaw913VatvUe7ec+32/wW67RRs8Uk1DAUAjWj8sr//wCcGndXslZMoAS+LBxuPypkN1F0PljG9eZy8oQAAARZBmk9J4Q8mUwIX//6MsAAAAwAS/KAo9cwnqG3CkhQuAEKL0yuz93OosXmKmBynLC1eyVWRpq8j+o4iQGl3V9WVg997dA0zlQ1CaR1exsgO5fKYKVLdGrJrYUcTi/GFtXrswjBXUzT/YcejFSV7/luz8f9bvUbOCXzGOBTJ5ZsSMkTYsSLzPmdbsgNoV6kgh+fGpQKwEFZuKzzJhqplZpjptQjwY72HimWWKnW7kh4ORniMFF2YDIgMwLed5jrQ/AxOCvozBFtbDOHoCGSEctQZlaCQx62enQG12xCoU/hbn0v/wTo2nTiB29bct5rASHgNm3zmVX6TUwaZFi7a5YitPP9LiYleh0BDtAUBsPFPtIV8ItyCgQAAARxBmnBJ4Q8mUwIX//6MsAAAAwAxQJPvXPkev4mHY6aWsADn+Pk/puGhJh3GriBOd6qMU8zhYGI0XpbXh9XAOCUIAfvcSulf2+EGDFNwozBCEmMz+K5Ey/D7b3pDlZjUScA8fv+W46nBBLvEYlU1XDGavyqOmYDukjGFcEZwlmXRBD7dDYM4MSjmtrtTXCkGN2Yr5IYXKJQTh5sfqeX0hDs3aMU7cLppPjokmU1y5ekdPkN9MwaQ9AOjc4Vr6lums/UXIzT04RxqqtjQldUEU8ssiZHBn59c6YE0+vTpm4fJwiPkmdEVrhWzjP5YWh9V4v8OfI4XOuLxj7VhtzIHwQZUnOgudkVehvqER9aMeRsY+BzjxQWLp5e2sumBwAAAARtBmpFJ4Q8mUwIX//6MsAAAAwFTYcLrrEogAWzLufbf37fCJV/Hrml8QTG+D6+uUsfTV7/y+7P3C/d7MvPxptqesIfJOndPGtGxiEckshM2LI9NAt5X5DWZKWYzV+RV3r8ZDnc1Vmqg5flNKtf4kQfEsK0uIHv7xRduj7N4Y4tXXAiNp9YKpJvzzqAOjUm9aRIWE/TGINgDR8utP2MlApPQF5FIvvcdODruavNTggkYMfHUDlsRQnHZIJLSRFYgWH8YRF9+wFtcf31fC0cd1tgZ+XRVUqw4Ud48UA0njd8+goxx/vFLYsNSf8Fi10/SqOe344yc7tfORm20QiccEcIe2ucAABuojq6E1fO7f2FI0LrElnkif1VPrvJuAAABFkGasknhDyZTAhf//oywAAADA2YFHWvRrz0/zrABOpWjqUucLk3TbW8vKDJv/kkKbtzdYNx+POFb/JBNbnJW2aFcTUVISn+ANF/HnqqU13LgN0ao+dKj6KHXCc0DEJs271isLMt+mytOB/jkzb0utDR/7d8iN4h8He/8lQ73KNZs0JaJ885NQi8wuVonmFEPFlTYoytvgBtsDkejFtoQaLRxJC9eJOKWuBJ+SRWoTRX4VX8jhh1zkkAU4D/EDQ8YCEKfQIJNiwSzhQ9xRJH0NoIq3bnyRtUs//md/lg9C9TT0E5wa0uT5u2T/M7fmDXVTNQ48ttU3QVQPWhL93bh+YK0C52EvqUR1vFLJyRLY6pu9Mdk/ogZAAAA/0Ga00nhDyZTAhf//oywAAAIvknH5p7u5KZAq5LMgALqfTu3YSVDWR3PdTRpiSkF6K/+x7jjbqn5hIjV9Qu7A45oeaQarvnv1JSwUFDlTEtWuYhGEgJ5VLkxq999AX9NqSJ82FzPkZqDo/wl8+4jbVWvJGDFTYniqoZk3VHJQPDJIekHqvtGk1J6SmfO4Iz6A2/+kGceFozCbQMdgEsz4NX0rnXh/b7eYbqB2yKj+b0vI68eKF6NjSdYAzwalqIsI87pw3zR/Q1UzR31VYeTQ7600F9EPCV6/ujPZLB88v+3yrHOcSEIr7byqtrimykN52qHM9677VjFWSftechoQAAAAQFBmvRJ4Q8mUwIZ//6eEAAAO1nnSXGbqAAXPIvKgeobBKyKmzBU4hx+B8n60S826KFV9JPxDN7chvP4V3Ga75t8tKT3oEibL4niK6w711lIQLvSjjnQvewGquuCc8pSFEqLv3dg8fOuNTqQN7/kmdMhYG1IVMbkDXNx3W9bbLnWShdOt9HyRj6L1nzCnrEDQQlZi9TrCsZtMo/buQP8B4xXShCxAti6vxQVOFRvrCh3mzcKVhhRv0iSmDgXol8ZuFXt514aWKDDJQgDh7uLvfwmogwwJklYaouwkCjj3F21qnf/zRxgBCkd9weCaM5UrGqyVXV90y4QXa8GMVvLqogakAAAALZBmxVJ4Q8mUwIZ//6eEAAAmohzpuzx9zWoUrw+wxvXiTkmD8AJpypC+2iAbDMNrwDW2Uy2sH7guDgR2j3uqjHj5B6quT9D/CaE+9EH+jDSCN8Vdqjwr22W3kzUpbsmZXqCBtzv1laW46rQV3WiC3979vsnHhYmvLW7fMtDrNLw8m9qDYpCivfZdU41xFMcQtQNIwOGfIfd/IviF3w4FqpJZJR++4qB2Ke29GI1fq1gHKjsekA1YQAAAOVBmzZJ4Q8mUwIZ//6eEAABkZ+DqdVIeVwAVHS4WkYKtB+QpP9tY6MC6eAS/wmgpHu3/bMxE6KK2dHnuB1YaUJTzNiesDsT+qzB8dAFTWKWH7ixlq0ttQXEmUXVBS6GaoXbaCQ8qLCDkjyXJjleNzXcMEdj0l3UScWC5p/UMswFYZBJIDmVr0vsmcR8Mw2K/vA7D36z2J1lsS+IRIJhs/TTH3JXG837bVUmkdt7YCFk0peBO2wYFhyZehzyj5PpMT3TLVLi/K3/Fe//f5wROMVXz5WNSU8UzqwVkfnIBJ8MbnuDADjgAAAA+UGbV0nhDyZTAhn//p4QAAQbjz4GgiAHSPuFpJU3uTKMRIfVI9p5H5BbClL5HpmRG2mFPp3I8MerpnzvXy1VVAUraogisbpb12GJmkDB14ojhoQtBYSQNHVYZczk4OPP4atWM8s3HW4/+ZTBm6+v1twWZrag8iv+WfV0WkdojmDpK+evkrPFQ3bDhfbjb0y3ImneX462IFfd9OqD2DW2jvaBNPU2cdhlwinGYnS4Ie424/SF/FU31qbdUelLj4cnwgraVnPEzh0kos5IV+t1NIRkFawLKTVsoAnHdx9EENVCj6A9/sE1ikjQ5cAftmwEaqu5mvDHpgAMqQAAAOVBm3hJ4Q8mUwIb//6nhAACxM1Nso+aDvDg1wl0BBjNbIAJLf0XI5QWYk8LIqFogIbRLqVsLxkvRdt5AlhrdK445JrYXdfQ3H0TntBXw10//I/Tb3PPjBz2OqtqCu/xGZSkx9QLEsATqPt9SUBA1Lf69fWEPFYHS7l3SqHSIgv+LHd9AKSY66mFC1rWtQD/ICkp6QTfwgRydWa7mw0PzfdNc5fS1BerSGY/SdvRN5pFgIVUyapcOIEv8FlZgmEJOY7qZqa6otBrLNDbg5guIlFUbfEoO0V0SblG/5jL3a93iqcDwAFxAAABZ0Gbm0nhDyZTAhv//qeEAC6KjJidfGsIAC4Us17ohgc8d42Qf/4K4QTVaBefJSusHxpkbzhAT9J7Drfcu4ahSPzbW8AQ72/Tem/NXMk5uuHnYJGIAnWrS1g7S0FK6SAGcgJJo3IviWmuTKz5Psh1gRy7E/RIa4tDB52XtQ58j0uzhaiHczPNNXr0Egsk4WToyDSbOvIUsHXqYcW6YssZTlC/1flIkCqElQHtiVoSozbxwN+zsduZcX2nln0oir78/NPMuMWkEGeHh6eiUAgXY4+Zv2+UhjM64BEn30ty+oB5zVgLeOHsxMwGR2BOBqJO4ABECXKzwB5V/dxz3jevgBKnz6/J/LCSlq1fRbBYCospx32XWAuIHu0DnQUFaKIZ8m7sZWFqHq2EDSQdk5AykIuZNv9+rSVb6nSbnHkDJisdO0jDeAP9ZCZmyy/2dut9lq4EYLrp5vkxn4C7BdqUYAW3zPooAA1YAAAAvkGfuUURPCv/ACW6/2V5p5mFmbLI8wlPvlTFXMIi7nBs9v4fmneIIMvjeZE/S+tYAOWknDsEjo2o+uhK4xTrDUp+V8+TdL7P68v4wWYopxo0me/8VPSxwStr0u4/HiN3yUWuFGt23/CsaE72VBD8rRljGm7uZRxAozK1rKlZuJSvWRfN8m3e/Di+hhd1Re/WFFN6OzODv81yw8dmUh3XVw2k62ifnOtPxMQbGLrQgZ6ivx5FDxfsXIfn94B2wEcAAAC5AZ/aakJ/ADEPGhfQlWpnTHLgJWIKFBxy2gDkAB2GMcIYjNAQ5bayA8qNIGBclNK/1wxC81xirdsofj4qkayX6kWEPfUnTlI1GDFcqeaZQxBNWHBG+im56QUs3ZaoVA5bRrAXWXFtB5M0Daa6QLnomro9uWQdCVPy6WISKmWZPWNQauoTvtP8iUSoCCHT/kUm21oPz9ZdfCLHh0ZRb6y6HX++2rJxFP7pa3HX14g113G8LvS1Vgvn/cwAAAFxQZvfSahBaJlMCG///qeEAHaBzlHa+bgA5y5LurQe4iFHXUAvvWCDThzxnOPqEL3cYeBurF0+sfTVlEx/mgvjQfEaH9uSkbxRvfUF8Amax30tNJzl75+0Z4l31uJ9tMXHoj4qgewvLd2utCr3UXQx+QNkv9+ivU6kQBA+9GJMzDQUuDx3pQPcTLSzYXFVj5Y1qXt8wCTfXqpcDMrlPyCeAl1LUVkjPsbodEj1+TDpp1do5Yvhcl984AwIkmmcp885ENctHBsVSXbld+MoBd1LHLaGXBv8hQCl/DOdGaECE2IFTsBLKk2VoRYRmOYyZdIH9IuY+phkEFHI4AxsGMUpYA4g8d4j9tRvkUa2UexroSx0eeP+wiAkmVgDeyD4HNZbpVGT/8OZaEvMySKsxtseJaYFt2PytMnPVdF8o0gLAZKaP39Qzyy/R7N755Wb2DoEv6oufJVTbvICxxCy780pSZeSPKrr974f/Wg2SGygAAHdAAABCUGf/UURLCv/AGIBcyEAqX58rOBIAHN4AW3GT66/bVDoXp7cJ8HcuYN1e3F+5xoHYMlzTe7/P4XZsEeQasY794crmXiKKINY2jjeI1ZCoX4qS879xCHdxTp34sVMuy+XmmQElwV/RRc/VHamOzdlhGRTT/ahH+ujhLLMHlFX4Z1pj4j6gN/zslpANusDTmEN5Y2fVuv2j/xNAOJ+GLnvHRaVMaH604It04hFaREVMn2zed7RdhRt/HHYMyFwG67gRUDk8gdhBPpgTCDnkmp1de5ksm9WPxLmG0sa55QwAw6jsdBs9MJf/K/ogNlEeUUO4g7tJTpQfbHqd8xabfxA4oVyIIrxBw/je4EAAACwAZ4cdEJ/AHxl+NODa0UorIzQqfSt1Bb4TTxgAXxN74/w5Bbekze573rePGGMnNpzpODj9kl7QBa/eH0C1Wh2S6jINY8i+v5r59d9/leDFCW7ysVf6vbVJc05decvRClhe6lV0MMTzEN+qwKvicfdJbsBFLEPLghlN7Bv6XnhWutQmG7n1oKOKhmLqHVAYCswwmP1HC2IXzHLmKm7xQeV25adzmgsVUy9XjI8L/cAKGAAAADEAZ4eakJ/AHw2x2k99aYUs8ugAX15b8aIg+zGFe89A6eH/3ETMsP/9PnYXuAYs1CQ754J7KzdPJ1Cl7IR4XTBnG3k5o5bULAWC7gfS5oyqotbZskQqE3fweWCuLkcFQttAz9D2R6M58pIS4LpV5PkAvZGpzisH/heUlSp6sV4v5LnJjKjG0dIjlI1N/2+z/ajk2H16CV1ltEUAIkdOeux6nlm3oCYM+SafHemXEZS2fD+Q38Az2qcQRnuLQqeBsFBdgBQwAAAAa9BmgJJqEFsmUwIb//+p4QAdz2U/BYYOoX+p3fkkvpNw5znhoCxAAHYPHoAbf/D//gSoErhle1vFef7I3Ob8Zc8CUFROpK+8NTNXn8PWLo0Fyd0vqqz3VtGypZL2pcGOSjA+ARlBSOu9nv69k07IFqcI/hqg+YYNDr5mI4dH0XKqDrMgbVf3f6zPpDxFJqRFvYApspJGaODN5ExD5EmRKa4vaPJer0d7hEqW369sweUm4iJCzPUCKOM7ft7liYrGiQ3ZR/vKFkmbGbrd9Ojqv1T5XACAFozM3lc471sN6b3cH9BzUM9xWTQqJQNNaomgCNZX1BY06XO+OtxL5W6dok5Eh/c/OalHVhWELLdmtwkKb1373Fhx+r9w1AgD/j2Y5iYYZ+fpMbbxG9dcCC9cRcK15AmW84uGo1CdVfLqi58Vp5xZ5maNm+LxDwJWylPh6hu6sTq/cW87vdMGsjCJpnZvSv3PAfoJTjEyzMC859yhGTBqWtw9070eL8dQqssv2cKlbCAU3nOkR/HBb4UmIvrw9VKI2VvQErpnZkj8VJ9Sy484388wB9jiYNSbOdVJwAAAPdBniBFFSwr/wBiB70ke+rJ4AMpyOtxipmFiSDpsJbyQrDN6S8z89eCWkYD60r6nItycS4YhBQEoFxOkhPdRq5KOf+buIbacX7vwCepF1SFriCpuaMvix8YaaoqLftSqT81FPV1zNCf53ccC/mvovhQU3d7lyXff0e2x++gXOD8J513FO14eqy2gS8h4ehEJ1s8l4Whsv4Yb7TWSOgVo4Io2DeIX+IRoGd/Xz7XOp+oRPqI3tLfz1xABj8VIJAKbXI9/7+iDEJ3SwlA9cy8gIG96u95INQWG7BCQZEfgI1Zz0+ODZJILNBszdbfL/mRUqD0LvxyWF48AAAAtAGeQWpCfwB8P82yYXFxMcOsrwAgWmWWq6S7Lc8HdEPQ7ze0wLAW/14AFino0y85J5ZRFOwon9Vof+ENe9p34rEt5VUGg/h+pN+53VVcE4whQ+6VE8Oa7qfpvJLlCnC3XrPx+ZwL/bG43n6k20nT8iQ+EhJqCIRQDRl6J+dg0YfFGmpZ2kPgH4pSGH7sVebmXG8xFhi7mv9Qswmh8aff2ICUUfJOde2HITRBm9HaefKLmm+ZcQAAAPVBmkZJqEFsmUwIb//+p4QAAAMAAElliXnTgBbsllQPZEVIsR1bdWIyc+/kd3IliKfsvG38iOcIhbKtZOjtv/A5sGaeFC5dJpy6QJYeSM/NVAKq+eYwyowpwFb+jbE/QCrtlZIETJu6IZM75PLNRTtWKkCDxyu0B7D2072/4WI+Ad7tX2rmQkTf6jOByWq2NT9ZhtLE3q6Bk9KILyt1f2xCMyc0XomdXjp7q4bzzqKHZ04i1GDMujjjNF7e2Jcq0qzFC4PAeTpiQYCZJSCZs3/tlZLSOwHSc5/Mm2GPZnXW8dN/Cus/ccIdn65hfSk4oLTkjW2OmwAAAI9BnmRFFSwr/wAAAwHFr0QFZDmv+zWVy1JaqABCMl9TdO3MImJzuWLCV1jcO5K1aY0iZ15DCy0JRaXES7/V2O+Pstk/LLdsEwhUZpwYdArTYUSc8Wd+oFSTCSn9vKrqtRGypgN+6aCGAokUSmFjIPVHszlpT9J+4kwZL5hLD7xarusXI8eFTlCXAa0So/7K4wAAAFUBnoN0Qn8AAAMCStRoEVoEWDQgAhOl79Fx8dEK470vFayW2WhdykeJc/ItHJuHNxYJU8h9RCpty/FvmhE/T69/P/V0C4fUP7n/yOah4wiyaoD5zhWBAAAAeQGehWpCfwAAAwJLt94O2R6Q8PggAgWQARTRJyE1HzFmee39syksk815K67tPjWS2EHooD+UuPCtsS1B0rwBt/y7s9HCtnigHgCtm44D+1BRKAv0r7wl79TGDPe1kTTS3CB8lSCDefE6HC2dDV2N+OeB3i1Ia8cEhhkAAADWQZqKSahBbJlMCGf//p4QAAADAAEdFBW6aWkS27QAPxZXaSfE5asJQB7/uW6tzpMV2wR+vG+3pdoMQwUgY44tfIU+BvzrOBPBj5TjX91KNnWsb0YOeI+zprsIMCoYhZrqyyt04pjmo+G6N3h6FG1+vRTUCzoN2SxNtOkgJT/7JgaPM91t6G9VHs8vSl0IVRN1Q7BDuO4MMHvTKlEoxDmvngW081VYaEBIq+EVykfRZoNzTsWSvimV/EK74sV5AUPoMpCGrXQboiNheCRGODD/mrWPn5+6bQAAAI5BnqhFFSwr/wAAAwHFr0QFZDmeY5wAL5nyVSqDRwZNx5jM60zHjWiqMLpKrRjrBHZOu1izO8pavOSznE6nu4NFNBlnZ7q9QdM4WdXXu8ohYQ7aPJ2k1EdAwys23AJNzkSmvDn/Wd/Mt1GHSyQqds8Lt9xkWJAYvlevmKtVHMktXVgj+8X83v0V+t9a/YnPAAAAegGex3RCfwAAAwJK1GgRSPgUfPtwAcofvO898TsCX0ndgSZ2GnFwQ1TZlXM/FGqQ4AaFkfJo8anC8ZBs+rb5ImvwthvaXdaiUfYIU9U5BYV1MAa0f9GVZknsbp6FizeDvRe3VMbzmBiLnMviO3dD8iVANJEWFTvqeKL8AAAARwGeyWpCfwAAAwJLt94OJs9RnGYPLZZa4RxgA5Zjvb+66RBpoQKPIX8Jcv5m4on9lApdXUEU7omI/aMrJUe63xVRKbcYLyNVAAAAUUGazEmoQWyZTBRMN//+p4QAAAMAAB0eE8kLKGVsglCADja4sZsEqdq92uLs1m6x37IbX/aJ51HhztC+MkE94B6Iu0fwBvwKLGE655/KMecH1AAAAC8BnutqQn8AAAMCTC79AfF8VAAfBAS5hqkj/Z9A8sSo4HgX6g7n70iGQGV9Y/SSYAAAALRBmvBJ4QpSZTAhn/6eEAAAAwABHVMO2sACH6XC0km4ET5opizi4PG+zieI9C2AnZ2iGWUFYNw0EGm7QgsL7yCrRXUMYkW/Co25p495/MTKOn6TXlMwWoZzKXfeujyLdBXYMNc4wCjdRFxYrFklD4Fa6BWA7tF+LeJlAE1M7550mIEimb9OuCBvjirnsUylCpnsrWxwdORftUMUQxarlkAFptdt0mE6oSkdGqrR8F96HDv5ebEAAAB+QZ8ORTRMK/8AAAMBxY3XxFTJnvNPT97b0kAFPt/01qyqr7RctAzJ6DRslb3yKVd8ha0rNyaUBenVrrt9PNPUcEifK8TBIvO0wDfW5I3Ye43CMjUGgAU2mVLUyIN38bX9vmrYuy6VxoKKUh+V7NB/cr7OPBeGVQDw45G6uK9HAAAAWQGfLXRCfwAAAwJK1GgRVEF+TY+5bVCfRApS+gA5dA7XNrat/nw0WM3qtMB8YK7UIOfxbUedT3YPzIoiN7/j6niJ3fZoqQ5JaKQtTjvFJqMQuwQIdvjTOCPBAAAAfgGfL2pCfwAAAwJLt94N/QLFDVO16YADn4qjJglh4hUb7eQyfWEIFjajQapaq7Zuiktlzb9pdRMvwFIIKqCs9BwfyMqkwWGAdqSgCk6RNx+rgqircecnZ5aRYOyHURGwrQRMw3QzA+niCn1QD79iJVB18yRw2ttsUtS0wfmHnAAAAKBBmzNJqEFomUwIV//+OEAAAAMABFZSHrMxACFPIdbpwuygsR71MzTS78mHm6m80PT3hWD0WfolbItDYtz8e7mZd1RLjO3bzqDsDx/JMfXH0FnL6Wm4z/DJQEt0sfvabuN5xXG8L4xy+KAjcFRPbkpH92UdFUq0gU49MWTPUgdQ6EiDst1Jaua+gKhUk5PvF0iPRRALWxfKDOyxPsgJPjT3AAAAdkGfUUURLCv/AAADAcWvRAVkOZ3Jvtf9B/12KDBqhyJUK8TQIa7g8AAnHUCoFbN3neZR3ja2zeO0eI5z8ZWCYk+fRDZTxywkMkLyTFF7XtIflegjK+dvmbmQNGRPgxxx9/YKxyOwpQs0GtQCVwbpUUy1YPXowjEAAACDAZ9yakJ/AAADAku33g4ODI2/7jZyAAz9uFvrd4kpAPv8C5SubTGKgw7E6ve5VEq7QlCUuwkUxoTVg7NgtrVFywdDWiUd+8r1LlBfJilu90JpydaN2v3RJbZMC9qj5TVpFHyIW0VHF6lO08HzAZHfTPbNpqeHv+s3KNHNkbN59YSoBoAAAACsQZt0SahBbJlMCE///fEAAAMAAArEFDrJolwATF9O1pqLKgf7Fp1JYHYFL99DRkVc5sOyV9NoWw9x0Ig1leODVUs6K8exN0PJUBWy0jTuGn4h7Usd7BzLt3zrYqBn5XmaTLcFNa5RzDrgJTXQMyCOoyBI1v9Rd8ttT6XGNgHVyJJ1+U2gyi9fUxYPAJSWsrpsZMzalzGgCM+XJw6zKdVUK9muxMrNu5c6X+euJgAACgdtb292AAAAbG12aGQAAAAAAAAAAAAAAAAAAAPoAAAXkgABAAABAAAAAAAAAAAAAAAAAQAAAAAAAAAAAAAAAAAAAAEAAAAAAAAAAAAAAAAAAEAAAAAAAAAAAAAAAAAAAAAAAAAAAAAAAAAAAAAAAAACAAAJMXRyYWsAAABcdGtoZAAAAAMAAAAAAAAAAAAAAAEAAAAAAAAXkgAAAAAAAAAAAAAAAAAAAAAAAQAAAAAAAAAAAAAAAAAAAAEAAAAAAAAAAAAAAAAAAEAAAAACWAAAAZAAAAAAACRlZHRzAAAAHGVsc3QAAAAAAAAAAQAAF5IAAAQAAAEAAAAACKltZGlhAAAAIG1kaGQAAAAAAAAAAAAAAAAAADwAAAFqAFXEAAAAAAAtaGRscgAAAAAAAAAAdmlkZQAAAAAAAAAAAAAAAFZpZGVvSGFuZGxlcgAAAAhUbWluZgAAABR2bWhkAAAAAQAAAAAAAAAAAAAAJGRpbmYAAAAcZHJlZgAAAAAAAAABAAAADHVybCAAAAABAAAIFHN0YmwAAACYc3RzZAAAAAAAAAABAAAAiGF2YzEAAAAAAAAAAQAAAAAAAAAAAAAAAAAAAAACWAGQAEgAAABIAAAAAAAAAAEAAAAAAAAAAAAAAAAAAAAAAAAAAAAAAAAAAAAAAAAAAAAY//8AAAAyYXZjQwFkAB7/4QAZZ2QAHqzZQJgz5eEAAAMAAQAAAwA8DxYtlgEABmjr48siwAAAABhzdHRzAAAAAAAAAAEAAAC1AAACAAAAABRzdHNzAAAAAAAAAAEAAAABAAAEMGN0dHMAAAAAAAAAhAAAAAEAAAQAAAAAAQAACgAAAAABAAAEAAAAAAEAAAAAAAAAAQAAAgAAAAABAAAKAAAAAAEAAAQAAAAAAQAAAAAAAAABAAACAAAAAAEAAAgAAAAAAgAAAgAAAAABAAAIAAAAAAIAAAIAAAAAAQAABAAAAAABAAAKAAAAAAEAAAQAAAAAAQAAAAAAAAABAAACAAAAAAEAAAYAAAAAAQAAAgAAAAACAAAEAAAAAAEAAAoAAAAAAQAABAAAAAABAAAAAAAAAAEAAAIAAAAAAgAABAAAAAABAAAKAAAAAAEAAAQAAAAAAQAAAAAAAAABAAACAAAAAAEAAAoAAAAAAQAABAAAAAABAAAAAAAAAAEAAAIAAAAAAQAACAAAAAACAAACAAAAAAEAAAQAAAAAAQAABgAAAAABAAACAAAAAAEAAAoAAAAAAQAABAAAAAABAAAAAAAAAAEAAAIAAAAAAQAABgAAAAABAAACAAAAAAEAAAgAAAAAAgAAAgAAAAABAAAEAAAAAAEAAAYAAAAAAQAAAgAAAAABAAAGAAAAAAEAAAIAAAAAAQAABAAAAAABAAAGAAAAAAEAAAIAAAAAAQAABAAAAAABAAAGAAAAAAEAAAIAAAAAAQAACAAAAAACAAACAAAAAAEAAAgAAAAAAgAAAgAAAAABAAAEAAAAAAEAAAYAAAAAAQAAAgAAAAABAAAEAAAAAAEAAAgAAAAAAgAAAgAAAAABAAAKAAAAAAEAAAQAAAAAAQAAAAAAAAABAAACAAAAAAEAAAgAAAAAAgAAAgAAAAABAAAEAAAAAAEAAAYAAAAAAQAAAgAAAAABAAAEAAAAAAEAAAYAAAAAAQAAAgAAAAAIAAAEAAAAAAEAAAoAAAAAAQAABAAAAAABAAAAAAAAAAEAAAIAAAAAAQAABgAAAAABAAACAAAAAAcAAAQAAAAAAQAACgAAAAABAAAEAAAAAAEAAAAAAAAAAQAAAgAAAAABAAAIAAAAAAIAAAIAAAAAAwAABAAAAAABAAAGAAAAAAEAAAIAAAAAAQAABgAAAAABAAACAAAAAAwAAAQAAAAAAQAABgAAAAABAAACAAAAAAEAAAYAAAAAAQAAAgAAAAABAAAGAAAAAAEAAAIAAAAACgAABAAAAAABAAAIAAAAAAIAAAIAAAAAAQAACgAAAAABAAAEAAAAAAEAAAAAAAAAAQAAAgAAAAABAAAIAAAAAAIAAAIAAAAAAQAACgAAAAABAAAEAAAAAAEAAAAAAAAAAQAAAgAAAAABAAAKAAAAAAEAAAQAAAAAAQAAAAAAAAABAAACAAAAAAEAAAYAAAAAAQAAAgAAAAABAAAKAAAAAAEAAAQAAAAAAQAAAAAAAAABAAACAAAAAAEAAAgAAAAAAgAAAgAAAAABAAAEAAAAABxzdHNjAAAAAAAAAAEAAAABAAAAtQAAAAEAAALoc3RzegAAAAAAAAAAAAAAtQAAE0UAAAIcAAAA0gAAAJwAAABqAAABKgAAAJYAAACRAAAAggAAAPUAAACsAAAAkQAAAV8AAAC9AAAAowAAAQwAAAFzAAAA5QAAAKsAAACyAAABQwAAAJIAAAEJAAABEgAAAYsAAADKAAAAngAAAJcAAADRAAAAxgAAANAAAAB1AAAAkgAAAJIAAACxAAAAVQAAAI8AAACHAAABQAAAAKkAAAC3AAAA3QAAAVUAAAC0AAABRgAAARYAAACqAAAAtwAAASsAAAC1AAABfwAAAMkAAADRAAABNAAAAS4AAADKAAABSwAAALwAAADrAAABIgAAAJwAAAEWAAAA3wAAAIMAAADcAAAAqwAAAIwAAAECAAAArwAAAJkAAADWAAABDQAAAIIAAACyAAAA+wAAAKEAAACKAAAA0QAAAKoAAACKAAAARwAAAKYAAACjAAAAeQAAAOcAAAEbAAAAigAAAO8AAADjAAAArwAAAMEAAADWAAAA+gAAAOgAAAD7AAAAzAAAAN4AAAENAAABGAAAATUAAADiAAAA0wAAAWgAAADwAAABUAAAARIAAAEgAAABJgAAAQQAAAD2AAAA4AAAAVQAAADsAAAAnQAAAJEAAAD5AAAAnwAAAIYAAAC+AAAAvAAAAPsAAAD3AAAAmAAAAOkAAACoAAAA1QAAAMgAAACsAAAAxwAAAOcAAADaAAAAyAAAAQgAAAEfAAABEwAAATEAAAFEAAABIgAAAMcAAAFOAAAA7gAAAW4AAADoAAABGgAAASAAAAEfAAABGgAAAQMAAAEFAAAAugAAAOkAAAD9AAAA6QAAAWsAAADCAAAAvQAAAXUAAAENAAAAtAAAAMgAAAGzAAAA+wAAALgAAAD5AAAAkwAAAFkAAAB9AAAA2gAAAJIAAAB+AAAASwAAAFUAAAAzAAAAuAAAAIIAAABdAAAAggAAAKQAAAB6AAAAhwAAALAAAAAUc3RjbwAAAAAAAAABAAAAMAAAAGJ1ZHRhAAAAWm1ldGEAAAAAAAAAIWhkbHIAAAAAAAAAAG1kaXJhcHBsAAAAAAAAAAAAAAAALWlsc3QAAAAlqXRvbwAAAB1kYXRhAAAAAQAAAABMYXZmNTcuODMuMTAw\" type=\"video/mp4\" />\n",
              "                 </video>"
            ],
            "text/plain": [
              "<IPython.core.display.HTML object>"
            ]
          },
          "metadata": {
            "tags": []
          }
        }
      ]
    },
    {
      "cell_type": "code",
      "metadata": {
        "id": "xxsihfb2p1ZR",
        "colab_type": "code",
        "colab": {}
      },
      "source": [
        ""
      ],
      "execution_count": 0,
      "outputs": []
    }
  ]
}